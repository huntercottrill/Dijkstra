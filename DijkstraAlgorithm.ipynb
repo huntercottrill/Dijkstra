{
  "nbformat": 4,
  "nbformat_minor": 0,
  "metadata": {
    "colab": {
      "provenance": [],
      "mount_file_id": "1dnA4ZHx_5tTlvHqJiHmBhYH2NsZr8Pnh",
      "authorship_tag": "ABX9TyPl8HPEas4Ns6WRJ9nN6MZM",
      "include_colab_link": true
    },
    "kernelspec": {
      "name": "python3",
      "display_name": "Python 3"
    },
    "language_info": {
      "name": "python"
    }
  },
  "cells": [
    {
      "cell_type": "markdown",
      "metadata": {
        "id": "view-in-github",
        "colab_type": "text"
      },
      "source": [
        "<a href=\"https://colab.research.google.com/github/huntercottrill/Dijkstra/blob/main/DijkstraAlgorithm.ipynb\" target=\"_parent\"><img src=\"https://colab.research.google.com/assets/colab-badge.svg\" alt=\"Open In Colab\"/></a>"
      ]
    },
    {
      "cell_type": "markdown",
      "source": [
        "Importing pandas to get the read_csv method"
      ],
      "metadata": {
        "id": "C_fjJSfRQV8Y"
      }
    },
    {
      "cell_type": "code",
      "source": [
        "import pandas as pd"
      ],
      "metadata": {
        "id": "-a1YBeJfQS_9"
      },
      "execution_count": null,
      "outputs": []
    },
    {
      "cell_type": "markdown",
      "source": [
        "Imported defaultdict for converting DataFrame to graph"
      ],
      "metadata": {
        "id": "ShlfLOH7CrOX"
      }
    },
    {
      "cell_type": "code",
      "source": [
        "from collections import defaultdict"
      ],
      "metadata": {
        "id": "M-lMRaiBACWa"
      },
      "execution_count": null,
      "outputs": []
    },
    {
      "cell_type": "markdown",
      "source": [
        "Importing priority queue for holding the cities traveled to"
      ],
      "metadata": {
        "id": "YJUiIP_3PDAK"
      }
    },
    {
      "cell_type": "code",
      "source": [
        "from queue import PriorityQueue"
      ],
      "metadata": {
        "id": "C-GPIs6TQZZf"
      },
      "execution_count": null,
      "outputs": []
    },
    {
      "cell_type": "markdown",
      "source": [
        "Storing the path to the sheet in a variable"
      ],
      "metadata": {
        "id": "OLQQmvdiMx5O"
      }
    },
    {
      "cell_type": "code",
      "source": [
        "path = \"/content/drive/MyDrive/Colab Notebooks/RomaniaTable.csv\""
      ],
      "metadata": {
        "id": "fFSenCxdNSO4"
      },
      "execution_count": null,
      "outputs": []
    },
    {
      "cell_type": "markdown",
      "source": [
        "Reading the csv and converting it from DataFrame to list"
      ],
      "metadata": {
        "id": "Cp_5trkIQFvO"
      }
    },
    {
      "cell_type": "code",
      "source": [
        "distanceData = pd.read_csv(path)\n",
        "df = pd.DataFrame(distanceData)\n",
        "distanceList = df.values.tolist()"
      ],
      "metadata": {
        "id": "nzHBBxBLQHng"
      },
      "execution_count": null,
      "outputs": []
    },
    {
      "cell_type": "markdown",
      "source": [
        "Function for creating graph from a list"
      ],
      "metadata": {
        "id": "wpdqi1qJDDv2"
      }
    },
    {
      "cell_type": "code",
      "source": [
        "def createGraph(connections):\n",
        "  # Graph represented through dictionary\n",
        "  graph = defaultdict(dict)\n",
        "  # Iterating through every\n",
        "  for i, j, distance in connections:\n",
        "    graph[i][j] = distance\n",
        "    print(graph)\n",
        "\n",
        "  return graph"
      ],
      "metadata": {
        "id": "3nhPTAdW9oMO"
      },
      "execution_count": null,
      "outputs": []
    },
    {
      "cell_type": "markdown",
      "source": [
        "Changing the list into list of edges between nodes"
      ],
      "metadata": {
        "id": "PPVz8PqYDsXx"
      }
    },
    {
      "cell_type": "code",
      "source": [
        "connection = []\n",
        "# Iterating through each city (row)\n",
        "for row in range(1, len(distanceList)):\n",
        "  # Iterating through each city it can potentially go to (col)\n",
        "  for col in range(2, len(distanceList[3])):\n",
        "    # Checking if the city has a path to another city\n",
        "    if not pd.isna(distanceList[row][col]):\n",
        "      # If it does have a path, create a list within the list containing the original city, city going to, and distance between\n",
        "      connection.append([distanceList[row][0], distanceList[col-1][0], distanceList[row][col]])"
      ],
      "metadata": {
        "id": "x2eXZ96I6vC_"
      },
      "execution_count": null,
      "outputs": []
    },
    {
      "cell_type": "markdown",
      "source": [
        "Putting the list of edges into the function that converts it to a graph"
      ],
      "metadata": {
        "id": "nEsQ5F87Fn6j"
      }
    },
    {
      "cell_type": "code",
      "source": [
        "dataGraph = createGraph(connection)"
      ],
      "metadata": {
        "colab": {
          "base_uri": "https://localhost:8080/"
        },
        "id": "HsmD_x5wEYUc",
        "outputId": "6f4fa291-f1f7-43ce-b892-519af1d96755"
      },
      "execution_count": null,
      "outputs": [
        {
          "output_type": "stream",
          "name": "stdout",
          "text": [
            "defaultdict(<class 'dict'>, {'Arad': {'Arad': 0.0}})\n",
            "defaultdict(<class 'dict'>, {'Arad': {'Arad': 0.0, 'Timisoara': 118.0}})\n",
            "defaultdict(<class 'dict'>, {'Arad': {'Arad': 0.0, 'Timisoara': 118.0, 'Zerind': 75.0}})\n",
            "defaultdict(<class 'dict'>, {'Arad': {'Arad': 0.0, 'Timisoara': 118.0, 'Zerind': 75.0, 'Sibiu': 140.0}})\n",
            "defaultdict(<class 'dict'>, {'Arad': {'Arad': 0.0, 'Timisoara': 118.0, 'Zerind': 75.0, 'Sibiu': 140.0}, 'Timisoara': {'Arad': 118.0}})\n",
            "defaultdict(<class 'dict'>, {'Arad': {'Arad': 0.0, 'Timisoara': 118.0, 'Zerind': 75.0, 'Sibiu': 140.0}, 'Timisoara': {'Arad': 118.0, 'Timisoara': 0.0}})\n",
            "defaultdict(<class 'dict'>, {'Arad': {'Arad': 0.0, 'Timisoara': 118.0, 'Zerind': 75.0, 'Sibiu': 140.0}, 'Timisoara': {'Arad': 118.0, 'Timisoara': 0.0, 'Lugoj': 111.0}})\n",
            "defaultdict(<class 'dict'>, {'Arad': {'Arad': 0.0, 'Timisoara': 118.0, 'Zerind': 75.0, 'Sibiu': 140.0}, 'Timisoara': {'Arad': 118.0, 'Timisoara': 0.0, 'Lugoj': 111.0}, 'Zerind': {'Arad': 75.0}})\n",
            "defaultdict(<class 'dict'>, {'Arad': {'Arad': 0.0, 'Timisoara': 118.0, 'Zerind': 75.0, 'Sibiu': 140.0}, 'Timisoara': {'Arad': 118.0, 'Timisoara': 0.0, 'Lugoj': 111.0}, 'Zerind': {'Arad': 75.0, 'Zerind': 0.0}})\n",
            "defaultdict(<class 'dict'>, {'Arad': {'Arad': 0.0, 'Timisoara': 118.0, 'Zerind': 75.0, 'Sibiu': 140.0}, 'Timisoara': {'Arad': 118.0, 'Timisoara': 0.0, 'Lugoj': 111.0}, 'Zerind': {'Arad': 75.0, 'Zerind': 0.0, 'Oradea': 71.0}})\n",
            "defaultdict(<class 'dict'>, {'Arad': {'Arad': 0.0, 'Timisoara': 118.0, 'Zerind': 75.0, 'Sibiu': 140.0}, 'Timisoara': {'Arad': 118.0, 'Timisoara': 0.0, 'Lugoj': 111.0}, 'Zerind': {'Arad': 75.0, 'Zerind': 0.0, 'Oradea': 71.0}, 'Oradea': {'Zerind': 71.0}})\n",
            "defaultdict(<class 'dict'>, {'Arad': {'Arad': 0.0, 'Timisoara': 118.0, 'Zerind': 75.0, 'Sibiu': 140.0}, 'Timisoara': {'Arad': 118.0, 'Timisoara': 0.0, 'Lugoj': 111.0}, 'Zerind': {'Arad': 75.0, 'Zerind': 0.0, 'Oradea': 71.0}, 'Oradea': {'Zerind': 71.0, 'Oradea': 0.0}})\n",
            "defaultdict(<class 'dict'>, {'Arad': {'Arad': 0.0, 'Timisoara': 118.0, 'Zerind': 75.0, 'Sibiu': 140.0}, 'Timisoara': {'Arad': 118.0, 'Timisoara': 0.0, 'Lugoj': 111.0}, 'Zerind': {'Arad': 75.0, 'Zerind': 0.0, 'Oradea': 71.0}, 'Oradea': {'Zerind': 71.0, 'Oradea': 0.0, 'Sibiu': 151.0}})\n",
            "defaultdict(<class 'dict'>, {'Arad': {'Arad': 0.0, 'Timisoara': 118.0, 'Zerind': 75.0, 'Sibiu': 140.0}, 'Timisoara': {'Arad': 118.0, 'Timisoara': 0.0, 'Lugoj': 111.0}, 'Zerind': {'Arad': 75.0, 'Zerind': 0.0, 'Oradea': 71.0}, 'Oradea': {'Zerind': 71.0, 'Oradea': 0.0, 'Sibiu': 151.0}, 'Lugoj': {'Timisoara': 111.0}})\n",
            "defaultdict(<class 'dict'>, {'Arad': {'Arad': 0.0, 'Timisoara': 118.0, 'Zerind': 75.0, 'Sibiu': 140.0}, 'Timisoara': {'Arad': 118.0, 'Timisoara': 0.0, 'Lugoj': 111.0}, 'Zerind': {'Arad': 75.0, 'Zerind': 0.0, 'Oradea': 71.0}, 'Oradea': {'Zerind': 71.0, 'Oradea': 0.0, 'Sibiu': 151.0}, 'Lugoj': {'Timisoara': 111.0, 'Lugoj': 0.0}})\n",
            "defaultdict(<class 'dict'>, {'Arad': {'Arad': 0.0, 'Timisoara': 118.0, 'Zerind': 75.0, 'Sibiu': 140.0}, 'Timisoara': {'Arad': 118.0, 'Timisoara': 0.0, 'Lugoj': 111.0}, 'Zerind': {'Arad': 75.0, 'Zerind': 0.0, 'Oradea': 71.0}, 'Oradea': {'Zerind': 71.0, 'Oradea': 0.0, 'Sibiu': 151.0}, 'Lugoj': {'Timisoara': 111.0, 'Lugoj': 0.0, 'Mehadia': 70.0}})\n",
            "defaultdict(<class 'dict'>, {'Arad': {'Arad': 0.0, 'Timisoara': 118.0, 'Zerind': 75.0, 'Sibiu': 140.0}, 'Timisoara': {'Arad': 118.0, 'Timisoara': 0.0, 'Lugoj': 111.0}, 'Zerind': {'Arad': 75.0, 'Zerind': 0.0, 'Oradea': 71.0}, 'Oradea': {'Zerind': 71.0, 'Oradea': 0.0, 'Sibiu': 151.0}, 'Lugoj': {'Timisoara': 111.0, 'Lugoj': 0.0, 'Mehadia': 70.0}, 'Sibiu': {'Arad': 140.0}})\n",
            "defaultdict(<class 'dict'>, {'Arad': {'Arad': 0.0, 'Timisoara': 118.0, 'Zerind': 75.0, 'Sibiu': 140.0}, 'Timisoara': {'Arad': 118.0, 'Timisoara': 0.0, 'Lugoj': 111.0}, 'Zerind': {'Arad': 75.0, 'Zerind': 0.0, 'Oradea': 71.0}, 'Oradea': {'Zerind': 71.0, 'Oradea': 0.0, 'Sibiu': 151.0}, 'Lugoj': {'Timisoara': 111.0, 'Lugoj': 0.0, 'Mehadia': 70.0}, 'Sibiu': {'Arad': 140.0, 'Oradea': 151.0}})\n",
            "defaultdict(<class 'dict'>, {'Arad': {'Arad': 0.0, 'Timisoara': 118.0, 'Zerind': 75.0, 'Sibiu': 140.0}, 'Timisoara': {'Arad': 118.0, 'Timisoara': 0.0, 'Lugoj': 111.0}, 'Zerind': {'Arad': 75.0, 'Zerind': 0.0, 'Oradea': 71.0}, 'Oradea': {'Zerind': 71.0, 'Oradea': 0.0, 'Sibiu': 151.0}, 'Lugoj': {'Timisoara': 111.0, 'Lugoj': 0.0, 'Mehadia': 70.0}, 'Sibiu': {'Arad': 140.0, 'Oradea': 151.0, 'Sibiu': 0.0}})\n",
            "defaultdict(<class 'dict'>, {'Arad': {'Arad': 0.0, 'Timisoara': 118.0, 'Zerind': 75.0, 'Sibiu': 140.0}, 'Timisoara': {'Arad': 118.0, 'Timisoara': 0.0, 'Lugoj': 111.0}, 'Zerind': {'Arad': 75.0, 'Zerind': 0.0, 'Oradea': 71.0}, 'Oradea': {'Zerind': 71.0, 'Oradea': 0.0, 'Sibiu': 151.0}, 'Lugoj': {'Timisoara': 111.0, 'Lugoj': 0.0, 'Mehadia': 70.0}, 'Sibiu': {'Arad': 140.0, 'Oradea': 151.0, 'Sibiu': 0.0, 'Rimnicu Vilcea': 80.0}})\n",
            "defaultdict(<class 'dict'>, {'Arad': {'Arad': 0.0, 'Timisoara': 118.0, 'Zerind': 75.0, 'Sibiu': 140.0}, 'Timisoara': {'Arad': 118.0, 'Timisoara': 0.0, 'Lugoj': 111.0}, 'Zerind': {'Arad': 75.0, 'Zerind': 0.0, 'Oradea': 71.0}, 'Oradea': {'Zerind': 71.0, 'Oradea': 0.0, 'Sibiu': 151.0}, 'Lugoj': {'Timisoara': 111.0, 'Lugoj': 0.0, 'Mehadia': 70.0}, 'Sibiu': {'Arad': 140.0, 'Oradea': 151.0, 'Sibiu': 0.0, 'Rimnicu Vilcea': 80.0, 'Faragas': 90.0}})\n",
            "defaultdict(<class 'dict'>, {'Arad': {'Arad': 0.0, 'Timisoara': 118.0, 'Zerind': 75.0, 'Sibiu': 140.0}, 'Timisoara': {'Arad': 118.0, 'Timisoara': 0.0, 'Lugoj': 111.0}, 'Zerind': {'Arad': 75.0, 'Zerind': 0.0, 'Oradea': 71.0}, 'Oradea': {'Zerind': 71.0, 'Oradea': 0.0, 'Sibiu': 151.0}, 'Lugoj': {'Timisoara': 111.0, 'Lugoj': 0.0, 'Mehadia': 70.0}, 'Sibiu': {'Arad': 140.0, 'Oradea': 151.0, 'Sibiu': 0.0, 'Rimnicu Vilcea': 80.0, 'Faragas': 90.0}, 'Mehadia': {'Lugoj': 70.0}})\n",
            "defaultdict(<class 'dict'>, {'Arad': {'Arad': 0.0, 'Timisoara': 118.0, 'Zerind': 75.0, 'Sibiu': 140.0}, 'Timisoara': {'Arad': 118.0, 'Timisoara': 0.0, 'Lugoj': 111.0}, 'Zerind': {'Arad': 75.0, 'Zerind': 0.0, 'Oradea': 71.0}, 'Oradea': {'Zerind': 71.0, 'Oradea': 0.0, 'Sibiu': 151.0}, 'Lugoj': {'Timisoara': 111.0, 'Lugoj': 0.0, 'Mehadia': 70.0}, 'Sibiu': {'Arad': 140.0, 'Oradea': 151.0, 'Sibiu': 0.0, 'Rimnicu Vilcea': 80.0, 'Faragas': 90.0}, 'Mehadia': {'Lugoj': 70.0, 'Mehadia': 0.0}})\n",
            "defaultdict(<class 'dict'>, {'Arad': {'Arad': 0.0, 'Timisoara': 118.0, 'Zerind': 75.0, 'Sibiu': 140.0}, 'Timisoara': {'Arad': 118.0, 'Timisoara': 0.0, 'Lugoj': 111.0}, 'Zerind': {'Arad': 75.0, 'Zerind': 0.0, 'Oradea': 71.0}, 'Oradea': {'Zerind': 71.0, 'Oradea': 0.0, 'Sibiu': 151.0}, 'Lugoj': {'Timisoara': 111.0, 'Lugoj': 0.0, 'Mehadia': 70.0}, 'Sibiu': {'Arad': 140.0, 'Oradea': 151.0, 'Sibiu': 0.0, 'Rimnicu Vilcea': 80.0, 'Faragas': 90.0}, 'Mehadia': {'Lugoj': 70.0, 'Mehadia': 0.0, 'Drobeta': 75.0}})\n",
            "defaultdict(<class 'dict'>, {'Arad': {'Arad': 0.0, 'Timisoara': 118.0, 'Zerind': 75.0, 'Sibiu': 140.0}, 'Timisoara': {'Arad': 118.0, 'Timisoara': 0.0, 'Lugoj': 111.0}, 'Zerind': {'Arad': 75.0, 'Zerind': 0.0, 'Oradea': 71.0}, 'Oradea': {'Zerind': 71.0, 'Oradea': 0.0, 'Sibiu': 151.0}, 'Lugoj': {'Timisoara': 111.0, 'Lugoj': 0.0, 'Mehadia': 70.0}, 'Sibiu': {'Arad': 140.0, 'Oradea': 151.0, 'Sibiu': 0.0, 'Rimnicu Vilcea': 80.0, 'Faragas': 90.0}, 'Mehadia': {'Lugoj': 70.0, 'Mehadia': 0.0, 'Drobeta': 75.0}, 'Rimnicu Vilcea': {'Sibiu': 80.0}})\n",
            "defaultdict(<class 'dict'>, {'Arad': {'Arad': 0.0, 'Timisoara': 118.0, 'Zerind': 75.0, 'Sibiu': 140.0}, 'Timisoara': {'Arad': 118.0, 'Timisoara': 0.0, 'Lugoj': 111.0}, 'Zerind': {'Arad': 75.0, 'Zerind': 0.0, 'Oradea': 71.0}, 'Oradea': {'Zerind': 71.0, 'Oradea': 0.0, 'Sibiu': 151.0}, 'Lugoj': {'Timisoara': 111.0, 'Lugoj': 0.0, 'Mehadia': 70.0}, 'Sibiu': {'Arad': 140.0, 'Oradea': 151.0, 'Sibiu': 0.0, 'Rimnicu Vilcea': 80.0, 'Faragas': 90.0}, 'Mehadia': {'Lugoj': 70.0, 'Mehadia': 0.0, 'Drobeta': 75.0}, 'Rimnicu Vilcea': {'Sibiu': 80.0, 'Rimnicu Vilcea': 0.0}})\n",
            "defaultdict(<class 'dict'>, {'Arad': {'Arad': 0.0, 'Timisoara': 118.0, 'Zerind': 75.0, 'Sibiu': 140.0}, 'Timisoara': {'Arad': 118.0, 'Timisoara': 0.0, 'Lugoj': 111.0}, 'Zerind': {'Arad': 75.0, 'Zerind': 0.0, 'Oradea': 71.0}, 'Oradea': {'Zerind': 71.0, 'Oradea': 0.0, 'Sibiu': 151.0}, 'Lugoj': {'Timisoara': 111.0, 'Lugoj': 0.0, 'Mehadia': 70.0}, 'Sibiu': {'Arad': 140.0, 'Oradea': 151.0, 'Sibiu': 0.0, 'Rimnicu Vilcea': 80.0, 'Faragas': 90.0}, 'Mehadia': {'Lugoj': 70.0, 'Mehadia': 0.0, 'Drobeta': 75.0}, 'Rimnicu Vilcea': {'Sibiu': 80.0, 'Rimnicu Vilcea': 0.0, 'Craiova': 146.0}})\n",
            "defaultdict(<class 'dict'>, {'Arad': {'Arad': 0.0, 'Timisoara': 118.0, 'Zerind': 75.0, 'Sibiu': 140.0}, 'Timisoara': {'Arad': 118.0, 'Timisoara': 0.0, 'Lugoj': 111.0}, 'Zerind': {'Arad': 75.0, 'Zerind': 0.0, 'Oradea': 71.0}, 'Oradea': {'Zerind': 71.0, 'Oradea': 0.0, 'Sibiu': 151.0}, 'Lugoj': {'Timisoara': 111.0, 'Lugoj': 0.0, 'Mehadia': 70.0}, 'Sibiu': {'Arad': 140.0, 'Oradea': 151.0, 'Sibiu': 0.0, 'Rimnicu Vilcea': 80.0, 'Faragas': 90.0}, 'Mehadia': {'Lugoj': 70.0, 'Mehadia': 0.0, 'Drobeta': 75.0}, 'Rimnicu Vilcea': {'Sibiu': 80.0, 'Rimnicu Vilcea': 0.0, 'Craiova': 146.0, 'Pitesti': 97.0}})\n",
            "defaultdict(<class 'dict'>, {'Arad': {'Arad': 0.0, 'Timisoara': 118.0, 'Zerind': 75.0, 'Sibiu': 140.0}, 'Timisoara': {'Arad': 118.0, 'Timisoara': 0.0, 'Lugoj': 111.0}, 'Zerind': {'Arad': 75.0, 'Zerind': 0.0, 'Oradea': 71.0}, 'Oradea': {'Zerind': 71.0, 'Oradea': 0.0, 'Sibiu': 151.0}, 'Lugoj': {'Timisoara': 111.0, 'Lugoj': 0.0, 'Mehadia': 70.0}, 'Sibiu': {'Arad': 140.0, 'Oradea': 151.0, 'Sibiu': 0.0, 'Rimnicu Vilcea': 80.0, 'Faragas': 90.0}, 'Mehadia': {'Lugoj': 70.0, 'Mehadia': 0.0, 'Drobeta': 75.0}, 'Rimnicu Vilcea': {'Sibiu': 80.0, 'Rimnicu Vilcea': 0.0, 'Craiova': 146.0, 'Pitesti': 97.0}, 'Faragas': {'Sibiu': 90.0}})\n",
            "defaultdict(<class 'dict'>, {'Arad': {'Arad': 0.0, 'Timisoara': 118.0, 'Zerind': 75.0, 'Sibiu': 140.0}, 'Timisoara': {'Arad': 118.0, 'Timisoara': 0.0, 'Lugoj': 111.0}, 'Zerind': {'Arad': 75.0, 'Zerind': 0.0, 'Oradea': 71.0}, 'Oradea': {'Zerind': 71.0, 'Oradea': 0.0, 'Sibiu': 151.0}, 'Lugoj': {'Timisoara': 111.0, 'Lugoj': 0.0, 'Mehadia': 70.0}, 'Sibiu': {'Arad': 140.0, 'Oradea': 151.0, 'Sibiu': 0.0, 'Rimnicu Vilcea': 80.0, 'Faragas': 90.0}, 'Mehadia': {'Lugoj': 70.0, 'Mehadia': 0.0, 'Drobeta': 75.0}, 'Rimnicu Vilcea': {'Sibiu': 80.0, 'Rimnicu Vilcea': 0.0, 'Craiova': 146.0, 'Pitesti': 97.0}, 'Faragas': {'Sibiu': 90.0, 'Faragas': 0.0}})\n",
            "defaultdict(<class 'dict'>, {'Arad': {'Arad': 0.0, 'Timisoara': 118.0, 'Zerind': 75.0, 'Sibiu': 140.0}, 'Timisoara': {'Arad': 118.0, 'Timisoara': 0.0, 'Lugoj': 111.0}, 'Zerind': {'Arad': 75.0, 'Zerind': 0.0, 'Oradea': 71.0}, 'Oradea': {'Zerind': 71.0, 'Oradea': 0.0, 'Sibiu': 151.0}, 'Lugoj': {'Timisoara': 111.0, 'Lugoj': 0.0, 'Mehadia': 70.0}, 'Sibiu': {'Arad': 140.0, 'Oradea': 151.0, 'Sibiu': 0.0, 'Rimnicu Vilcea': 80.0, 'Faragas': 90.0}, 'Mehadia': {'Lugoj': 70.0, 'Mehadia': 0.0, 'Drobeta': 75.0}, 'Rimnicu Vilcea': {'Sibiu': 80.0, 'Rimnicu Vilcea': 0.0, 'Craiova': 146.0, 'Pitesti': 97.0}, 'Faragas': {'Sibiu': 90.0, 'Faragas': 0.0, 'Bucharest': 211.0}})\n",
            "defaultdict(<class 'dict'>, {'Arad': {'Arad': 0.0, 'Timisoara': 118.0, 'Zerind': 75.0, 'Sibiu': 140.0}, 'Timisoara': {'Arad': 118.0, 'Timisoara': 0.0, 'Lugoj': 111.0}, 'Zerind': {'Arad': 75.0, 'Zerind': 0.0, 'Oradea': 71.0}, 'Oradea': {'Zerind': 71.0, 'Oradea': 0.0, 'Sibiu': 151.0}, 'Lugoj': {'Timisoara': 111.0, 'Lugoj': 0.0, 'Mehadia': 70.0}, 'Sibiu': {'Arad': 140.0, 'Oradea': 151.0, 'Sibiu': 0.0, 'Rimnicu Vilcea': 80.0, 'Faragas': 90.0}, 'Mehadia': {'Lugoj': 70.0, 'Mehadia': 0.0, 'Drobeta': 75.0}, 'Rimnicu Vilcea': {'Sibiu': 80.0, 'Rimnicu Vilcea': 0.0, 'Craiova': 146.0, 'Pitesti': 97.0}, 'Faragas': {'Sibiu': 90.0, 'Faragas': 0.0, 'Bucharest': 211.0}, 'Drobeta': {'Mehadia': 75.0}})\n",
            "defaultdict(<class 'dict'>, {'Arad': {'Arad': 0.0, 'Timisoara': 118.0, 'Zerind': 75.0, 'Sibiu': 140.0}, 'Timisoara': {'Arad': 118.0, 'Timisoara': 0.0, 'Lugoj': 111.0}, 'Zerind': {'Arad': 75.0, 'Zerind': 0.0, 'Oradea': 71.0}, 'Oradea': {'Zerind': 71.0, 'Oradea': 0.0, 'Sibiu': 151.0}, 'Lugoj': {'Timisoara': 111.0, 'Lugoj': 0.0, 'Mehadia': 70.0}, 'Sibiu': {'Arad': 140.0, 'Oradea': 151.0, 'Sibiu': 0.0, 'Rimnicu Vilcea': 80.0, 'Faragas': 90.0}, 'Mehadia': {'Lugoj': 70.0, 'Mehadia': 0.0, 'Drobeta': 75.0}, 'Rimnicu Vilcea': {'Sibiu': 80.0, 'Rimnicu Vilcea': 0.0, 'Craiova': 146.0, 'Pitesti': 97.0}, 'Faragas': {'Sibiu': 90.0, 'Faragas': 0.0, 'Bucharest': 211.0}, 'Drobeta': {'Mehadia': 75.0, 'Drobeta': 0.0}})\n",
            "defaultdict(<class 'dict'>, {'Arad': {'Arad': 0.0, 'Timisoara': 118.0, 'Zerind': 75.0, 'Sibiu': 140.0}, 'Timisoara': {'Arad': 118.0, 'Timisoara': 0.0, 'Lugoj': 111.0}, 'Zerind': {'Arad': 75.0, 'Zerind': 0.0, 'Oradea': 71.0}, 'Oradea': {'Zerind': 71.0, 'Oradea': 0.0, 'Sibiu': 151.0}, 'Lugoj': {'Timisoara': 111.0, 'Lugoj': 0.0, 'Mehadia': 70.0}, 'Sibiu': {'Arad': 140.0, 'Oradea': 151.0, 'Sibiu': 0.0, 'Rimnicu Vilcea': 80.0, 'Faragas': 90.0}, 'Mehadia': {'Lugoj': 70.0, 'Mehadia': 0.0, 'Drobeta': 75.0}, 'Rimnicu Vilcea': {'Sibiu': 80.0, 'Rimnicu Vilcea': 0.0, 'Craiova': 146.0, 'Pitesti': 97.0}, 'Faragas': {'Sibiu': 90.0, 'Faragas': 0.0, 'Bucharest': 211.0}, 'Drobeta': {'Mehadia': 75.0, 'Drobeta': 0.0, 'Craiova': 120.0}})\n",
            "defaultdict(<class 'dict'>, {'Arad': {'Arad': 0.0, 'Timisoara': 118.0, 'Zerind': 75.0, 'Sibiu': 140.0}, 'Timisoara': {'Arad': 118.0, 'Timisoara': 0.0, 'Lugoj': 111.0}, 'Zerind': {'Arad': 75.0, 'Zerind': 0.0, 'Oradea': 71.0}, 'Oradea': {'Zerind': 71.0, 'Oradea': 0.0, 'Sibiu': 151.0}, 'Lugoj': {'Timisoara': 111.0, 'Lugoj': 0.0, 'Mehadia': 70.0}, 'Sibiu': {'Arad': 140.0, 'Oradea': 151.0, 'Sibiu': 0.0, 'Rimnicu Vilcea': 80.0, 'Faragas': 90.0}, 'Mehadia': {'Lugoj': 70.0, 'Mehadia': 0.0, 'Drobeta': 75.0}, 'Rimnicu Vilcea': {'Sibiu': 80.0, 'Rimnicu Vilcea': 0.0, 'Craiova': 146.0, 'Pitesti': 97.0}, 'Faragas': {'Sibiu': 90.0, 'Faragas': 0.0, 'Bucharest': 211.0}, 'Drobeta': {'Mehadia': 75.0, 'Drobeta': 0.0, 'Craiova': 120.0}, 'Craiova': {'Rimnicu Vilcea': 146.0}})\n",
            "defaultdict(<class 'dict'>, {'Arad': {'Arad': 0.0, 'Timisoara': 118.0, 'Zerind': 75.0, 'Sibiu': 140.0}, 'Timisoara': {'Arad': 118.0, 'Timisoara': 0.0, 'Lugoj': 111.0}, 'Zerind': {'Arad': 75.0, 'Zerind': 0.0, 'Oradea': 71.0}, 'Oradea': {'Zerind': 71.0, 'Oradea': 0.0, 'Sibiu': 151.0}, 'Lugoj': {'Timisoara': 111.0, 'Lugoj': 0.0, 'Mehadia': 70.0}, 'Sibiu': {'Arad': 140.0, 'Oradea': 151.0, 'Sibiu': 0.0, 'Rimnicu Vilcea': 80.0, 'Faragas': 90.0}, 'Mehadia': {'Lugoj': 70.0, 'Mehadia': 0.0, 'Drobeta': 75.0}, 'Rimnicu Vilcea': {'Sibiu': 80.0, 'Rimnicu Vilcea': 0.0, 'Craiova': 146.0, 'Pitesti': 97.0}, 'Faragas': {'Sibiu': 90.0, 'Faragas': 0.0, 'Bucharest': 211.0}, 'Drobeta': {'Mehadia': 75.0, 'Drobeta': 0.0, 'Craiova': 120.0}, 'Craiova': {'Rimnicu Vilcea': 146.0, 'Drobeta': 120.0}})\n",
            "defaultdict(<class 'dict'>, {'Arad': {'Arad': 0.0, 'Timisoara': 118.0, 'Zerind': 75.0, 'Sibiu': 140.0}, 'Timisoara': {'Arad': 118.0, 'Timisoara': 0.0, 'Lugoj': 111.0}, 'Zerind': {'Arad': 75.0, 'Zerind': 0.0, 'Oradea': 71.0}, 'Oradea': {'Zerind': 71.0, 'Oradea': 0.0, 'Sibiu': 151.0}, 'Lugoj': {'Timisoara': 111.0, 'Lugoj': 0.0, 'Mehadia': 70.0}, 'Sibiu': {'Arad': 140.0, 'Oradea': 151.0, 'Sibiu': 0.0, 'Rimnicu Vilcea': 80.0, 'Faragas': 90.0}, 'Mehadia': {'Lugoj': 70.0, 'Mehadia': 0.0, 'Drobeta': 75.0}, 'Rimnicu Vilcea': {'Sibiu': 80.0, 'Rimnicu Vilcea': 0.0, 'Craiova': 146.0, 'Pitesti': 97.0}, 'Faragas': {'Sibiu': 90.0, 'Faragas': 0.0, 'Bucharest': 211.0}, 'Drobeta': {'Mehadia': 75.0, 'Drobeta': 0.0, 'Craiova': 120.0}, 'Craiova': {'Rimnicu Vilcea': 146.0, 'Drobeta': 120.0, 'Craiova': 0.0}})\n",
            "defaultdict(<class 'dict'>, {'Arad': {'Arad': 0.0, 'Timisoara': 118.0, 'Zerind': 75.0, 'Sibiu': 140.0}, 'Timisoara': {'Arad': 118.0, 'Timisoara': 0.0, 'Lugoj': 111.0}, 'Zerind': {'Arad': 75.0, 'Zerind': 0.0, 'Oradea': 71.0}, 'Oradea': {'Zerind': 71.0, 'Oradea': 0.0, 'Sibiu': 151.0}, 'Lugoj': {'Timisoara': 111.0, 'Lugoj': 0.0, 'Mehadia': 70.0}, 'Sibiu': {'Arad': 140.0, 'Oradea': 151.0, 'Sibiu': 0.0, 'Rimnicu Vilcea': 80.0, 'Faragas': 90.0}, 'Mehadia': {'Lugoj': 70.0, 'Mehadia': 0.0, 'Drobeta': 75.0}, 'Rimnicu Vilcea': {'Sibiu': 80.0, 'Rimnicu Vilcea': 0.0, 'Craiova': 146.0, 'Pitesti': 97.0}, 'Faragas': {'Sibiu': 90.0, 'Faragas': 0.0, 'Bucharest': 211.0}, 'Drobeta': {'Mehadia': 75.0, 'Drobeta': 0.0, 'Craiova': 120.0}, 'Craiova': {'Rimnicu Vilcea': 146.0, 'Drobeta': 120.0, 'Craiova': 0.0, 'Pitesti': 138.0}})\n",
            "defaultdict(<class 'dict'>, {'Arad': {'Arad': 0.0, 'Timisoara': 118.0, 'Zerind': 75.0, 'Sibiu': 140.0}, 'Timisoara': {'Arad': 118.0, 'Timisoara': 0.0, 'Lugoj': 111.0}, 'Zerind': {'Arad': 75.0, 'Zerind': 0.0, 'Oradea': 71.0}, 'Oradea': {'Zerind': 71.0, 'Oradea': 0.0, 'Sibiu': 151.0}, 'Lugoj': {'Timisoara': 111.0, 'Lugoj': 0.0, 'Mehadia': 70.0}, 'Sibiu': {'Arad': 140.0, 'Oradea': 151.0, 'Sibiu': 0.0, 'Rimnicu Vilcea': 80.0, 'Faragas': 90.0}, 'Mehadia': {'Lugoj': 70.0, 'Mehadia': 0.0, 'Drobeta': 75.0}, 'Rimnicu Vilcea': {'Sibiu': 80.0, 'Rimnicu Vilcea': 0.0, 'Craiova': 146.0, 'Pitesti': 97.0}, 'Faragas': {'Sibiu': 90.0, 'Faragas': 0.0, 'Bucharest': 211.0}, 'Drobeta': {'Mehadia': 75.0, 'Drobeta': 0.0, 'Craiova': 120.0}, 'Craiova': {'Rimnicu Vilcea': 146.0, 'Drobeta': 120.0, 'Craiova': 0.0, 'Pitesti': 138.0}, 'Pitesti': {'Rimnicu Vilcea': 97.0}})\n",
            "defaultdict(<class 'dict'>, {'Arad': {'Arad': 0.0, 'Timisoara': 118.0, 'Zerind': 75.0, 'Sibiu': 140.0}, 'Timisoara': {'Arad': 118.0, 'Timisoara': 0.0, 'Lugoj': 111.0}, 'Zerind': {'Arad': 75.0, 'Zerind': 0.0, 'Oradea': 71.0}, 'Oradea': {'Zerind': 71.0, 'Oradea': 0.0, 'Sibiu': 151.0}, 'Lugoj': {'Timisoara': 111.0, 'Lugoj': 0.0, 'Mehadia': 70.0}, 'Sibiu': {'Arad': 140.0, 'Oradea': 151.0, 'Sibiu': 0.0, 'Rimnicu Vilcea': 80.0, 'Faragas': 90.0}, 'Mehadia': {'Lugoj': 70.0, 'Mehadia': 0.0, 'Drobeta': 75.0}, 'Rimnicu Vilcea': {'Sibiu': 80.0, 'Rimnicu Vilcea': 0.0, 'Craiova': 146.0, 'Pitesti': 97.0}, 'Faragas': {'Sibiu': 90.0, 'Faragas': 0.0, 'Bucharest': 211.0}, 'Drobeta': {'Mehadia': 75.0, 'Drobeta': 0.0, 'Craiova': 120.0}, 'Craiova': {'Rimnicu Vilcea': 146.0, 'Drobeta': 120.0, 'Craiova': 0.0, 'Pitesti': 138.0}, 'Pitesti': {'Rimnicu Vilcea': 97.0, 'Craiova': 238.0}})\n",
            "defaultdict(<class 'dict'>, {'Arad': {'Arad': 0.0, 'Timisoara': 118.0, 'Zerind': 75.0, 'Sibiu': 140.0}, 'Timisoara': {'Arad': 118.0, 'Timisoara': 0.0, 'Lugoj': 111.0}, 'Zerind': {'Arad': 75.0, 'Zerind': 0.0, 'Oradea': 71.0}, 'Oradea': {'Zerind': 71.0, 'Oradea': 0.0, 'Sibiu': 151.0}, 'Lugoj': {'Timisoara': 111.0, 'Lugoj': 0.0, 'Mehadia': 70.0}, 'Sibiu': {'Arad': 140.0, 'Oradea': 151.0, 'Sibiu': 0.0, 'Rimnicu Vilcea': 80.0, 'Faragas': 90.0}, 'Mehadia': {'Lugoj': 70.0, 'Mehadia': 0.0, 'Drobeta': 75.0}, 'Rimnicu Vilcea': {'Sibiu': 80.0, 'Rimnicu Vilcea': 0.0, 'Craiova': 146.0, 'Pitesti': 97.0}, 'Faragas': {'Sibiu': 90.0, 'Faragas': 0.0, 'Bucharest': 211.0}, 'Drobeta': {'Mehadia': 75.0, 'Drobeta': 0.0, 'Craiova': 120.0}, 'Craiova': {'Rimnicu Vilcea': 146.0, 'Drobeta': 120.0, 'Craiova': 0.0, 'Pitesti': 138.0}, 'Pitesti': {'Rimnicu Vilcea': 97.0, 'Craiova': 238.0, 'Pitesti': 0.0}})\n",
            "defaultdict(<class 'dict'>, {'Arad': {'Arad': 0.0, 'Timisoara': 118.0, 'Zerind': 75.0, 'Sibiu': 140.0}, 'Timisoara': {'Arad': 118.0, 'Timisoara': 0.0, 'Lugoj': 111.0}, 'Zerind': {'Arad': 75.0, 'Zerind': 0.0, 'Oradea': 71.0}, 'Oradea': {'Zerind': 71.0, 'Oradea': 0.0, 'Sibiu': 151.0}, 'Lugoj': {'Timisoara': 111.0, 'Lugoj': 0.0, 'Mehadia': 70.0}, 'Sibiu': {'Arad': 140.0, 'Oradea': 151.0, 'Sibiu': 0.0, 'Rimnicu Vilcea': 80.0, 'Faragas': 90.0}, 'Mehadia': {'Lugoj': 70.0, 'Mehadia': 0.0, 'Drobeta': 75.0}, 'Rimnicu Vilcea': {'Sibiu': 80.0, 'Rimnicu Vilcea': 0.0, 'Craiova': 146.0, 'Pitesti': 97.0}, 'Faragas': {'Sibiu': 90.0, 'Faragas': 0.0, 'Bucharest': 211.0}, 'Drobeta': {'Mehadia': 75.0, 'Drobeta': 0.0, 'Craiova': 120.0}, 'Craiova': {'Rimnicu Vilcea': 146.0, 'Drobeta': 120.0, 'Craiova': 0.0, 'Pitesti': 138.0}, 'Pitesti': {'Rimnicu Vilcea': 97.0, 'Craiova': 238.0, 'Pitesti': 0.0, 'Bucharest': 101.0}})\n",
            "defaultdict(<class 'dict'>, {'Arad': {'Arad': 0.0, 'Timisoara': 118.0, 'Zerind': 75.0, 'Sibiu': 140.0}, 'Timisoara': {'Arad': 118.0, 'Timisoara': 0.0, 'Lugoj': 111.0}, 'Zerind': {'Arad': 75.0, 'Zerind': 0.0, 'Oradea': 71.0}, 'Oradea': {'Zerind': 71.0, 'Oradea': 0.0, 'Sibiu': 151.0}, 'Lugoj': {'Timisoara': 111.0, 'Lugoj': 0.0, 'Mehadia': 70.0}, 'Sibiu': {'Arad': 140.0, 'Oradea': 151.0, 'Sibiu': 0.0, 'Rimnicu Vilcea': 80.0, 'Faragas': 90.0}, 'Mehadia': {'Lugoj': 70.0, 'Mehadia': 0.0, 'Drobeta': 75.0}, 'Rimnicu Vilcea': {'Sibiu': 80.0, 'Rimnicu Vilcea': 0.0, 'Craiova': 146.0, 'Pitesti': 97.0}, 'Faragas': {'Sibiu': 90.0, 'Faragas': 0.0, 'Bucharest': 211.0}, 'Drobeta': {'Mehadia': 75.0, 'Drobeta': 0.0, 'Craiova': 120.0}, 'Craiova': {'Rimnicu Vilcea': 146.0, 'Drobeta': 120.0, 'Craiova': 0.0, 'Pitesti': 138.0}, 'Pitesti': {'Rimnicu Vilcea': 97.0, 'Craiova': 238.0, 'Pitesti': 0.0, 'Bucharest': 101.0}, 'Bucharest': {'Faragas': 211.0}})\n",
            "defaultdict(<class 'dict'>, {'Arad': {'Arad': 0.0, 'Timisoara': 118.0, 'Zerind': 75.0, 'Sibiu': 140.0}, 'Timisoara': {'Arad': 118.0, 'Timisoara': 0.0, 'Lugoj': 111.0}, 'Zerind': {'Arad': 75.0, 'Zerind': 0.0, 'Oradea': 71.0}, 'Oradea': {'Zerind': 71.0, 'Oradea': 0.0, 'Sibiu': 151.0}, 'Lugoj': {'Timisoara': 111.0, 'Lugoj': 0.0, 'Mehadia': 70.0}, 'Sibiu': {'Arad': 140.0, 'Oradea': 151.0, 'Sibiu': 0.0, 'Rimnicu Vilcea': 80.0, 'Faragas': 90.0}, 'Mehadia': {'Lugoj': 70.0, 'Mehadia': 0.0, 'Drobeta': 75.0}, 'Rimnicu Vilcea': {'Sibiu': 80.0, 'Rimnicu Vilcea': 0.0, 'Craiova': 146.0, 'Pitesti': 97.0}, 'Faragas': {'Sibiu': 90.0, 'Faragas': 0.0, 'Bucharest': 211.0}, 'Drobeta': {'Mehadia': 75.0, 'Drobeta': 0.0, 'Craiova': 120.0}, 'Craiova': {'Rimnicu Vilcea': 146.0, 'Drobeta': 120.0, 'Craiova': 0.0, 'Pitesti': 138.0}, 'Pitesti': {'Rimnicu Vilcea': 97.0, 'Craiova': 238.0, 'Pitesti': 0.0, 'Bucharest': 101.0}, 'Bucharest': {'Faragas': 211.0, 'Pitesti': 101.0}})\n",
            "defaultdict(<class 'dict'>, {'Arad': {'Arad': 0.0, 'Timisoara': 118.0, 'Zerind': 75.0, 'Sibiu': 140.0}, 'Timisoara': {'Arad': 118.0, 'Timisoara': 0.0, 'Lugoj': 111.0}, 'Zerind': {'Arad': 75.0, 'Zerind': 0.0, 'Oradea': 71.0}, 'Oradea': {'Zerind': 71.0, 'Oradea': 0.0, 'Sibiu': 151.0}, 'Lugoj': {'Timisoara': 111.0, 'Lugoj': 0.0, 'Mehadia': 70.0}, 'Sibiu': {'Arad': 140.0, 'Oradea': 151.0, 'Sibiu': 0.0, 'Rimnicu Vilcea': 80.0, 'Faragas': 90.0}, 'Mehadia': {'Lugoj': 70.0, 'Mehadia': 0.0, 'Drobeta': 75.0}, 'Rimnicu Vilcea': {'Sibiu': 80.0, 'Rimnicu Vilcea': 0.0, 'Craiova': 146.0, 'Pitesti': 97.0}, 'Faragas': {'Sibiu': 90.0, 'Faragas': 0.0, 'Bucharest': 211.0}, 'Drobeta': {'Mehadia': 75.0, 'Drobeta': 0.0, 'Craiova': 120.0}, 'Craiova': {'Rimnicu Vilcea': 146.0, 'Drobeta': 120.0, 'Craiova': 0.0, 'Pitesti': 138.0}, 'Pitesti': {'Rimnicu Vilcea': 97.0, 'Craiova': 238.0, 'Pitesti': 0.0, 'Bucharest': 101.0}, 'Bucharest': {'Faragas': 211.0, 'Pitesti': 101.0, 'Bucharest': 0.0}})\n",
            "defaultdict(<class 'dict'>, {'Arad': {'Arad': 0.0, 'Timisoara': 118.0, 'Zerind': 75.0, 'Sibiu': 140.0}, 'Timisoara': {'Arad': 118.0, 'Timisoara': 0.0, 'Lugoj': 111.0}, 'Zerind': {'Arad': 75.0, 'Zerind': 0.0, 'Oradea': 71.0}, 'Oradea': {'Zerind': 71.0, 'Oradea': 0.0, 'Sibiu': 151.0}, 'Lugoj': {'Timisoara': 111.0, 'Lugoj': 0.0, 'Mehadia': 70.0}, 'Sibiu': {'Arad': 140.0, 'Oradea': 151.0, 'Sibiu': 0.0, 'Rimnicu Vilcea': 80.0, 'Faragas': 90.0}, 'Mehadia': {'Lugoj': 70.0, 'Mehadia': 0.0, 'Drobeta': 75.0}, 'Rimnicu Vilcea': {'Sibiu': 80.0, 'Rimnicu Vilcea': 0.0, 'Craiova': 146.0, 'Pitesti': 97.0}, 'Faragas': {'Sibiu': 90.0, 'Faragas': 0.0, 'Bucharest': 211.0}, 'Drobeta': {'Mehadia': 75.0, 'Drobeta': 0.0, 'Craiova': 120.0}, 'Craiova': {'Rimnicu Vilcea': 146.0, 'Drobeta': 120.0, 'Craiova': 0.0, 'Pitesti': 138.0}, 'Pitesti': {'Rimnicu Vilcea': 97.0, 'Craiova': 238.0, 'Pitesti': 0.0, 'Bucharest': 101.0}, 'Bucharest': {'Faragas': 211.0, 'Pitesti': 101.0, 'Bucharest': 0.0, 'Giurgiu': 90.0}})\n",
            "defaultdict(<class 'dict'>, {'Arad': {'Arad': 0.0, 'Timisoara': 118.0, 'Zerind': 75.0, 'Sibiu': 140.0}, 'Timisoara': {'Arad': 118.0, 'Timisoara': 0.0, 'Lugoj': 111.0}, 'Zerind': {'Arad': 75.0, 'Zerind': 0.0, 'Oradea': 71.0}, 'Oradea': {'Zerind': 71.0, 'Oradea': 0.0, 'Sibiu': 151.0}, 'Lugoj': {'Timisoara': 111.0, 'Lugoj': 0.0, 'Mehadia': 70.0}, 'Sibiu': {'Arad': 140.0, 'Oradea': 151.0, 'Sibiu': 0.0, 'Rimnicu Vilcea': 80.0, 'Faragas': 90.0}, 'Mehadia': {'Lugoj': 70.0, 'Mehadia': 0.0, 'Drobeta': 75.0}, 'Rimnicu Vilcea': {'Sibiu': 80.0, 'Rimnicu Vilcea': 0.0, 'Craiova': 146.0, 'Pitesti': 97.0}, 'Faragas': {'Sibiu': 90.0, 'Faragas': 0.0, 'Bucharest': 211.0}, 'Drobeta': {'Mehadia': 75.0, 'Drobeta': 0.0, 'Craiova': 120.0}, 'Craiova': {'Rimnicu Vilcea': 146.0, 'Drobeta': 120.0, 'Craiova': 0.0, 'Pitesti': 138.0}, 'Pitesti': {'Rimnicu Vilcea': 97.0, 'Craiova': 238.0, 'Pitesti': 0.0, 'Bucharest': 101.0}, 'Bucharest': {'Faragas': 211.0, 'Pitesti': 101.0, 'Bucharest': 0.0, 'Giurgiu': 90.0, 'Urziceni': 85.0}})\n",
            "defaultdict(<class 'dict'>, {'Arad': {'Arad': 0.0, 'Timisoara': 118.0, 'Zerind': 75.0, 'Sibiu': 140.0}, 'Timisoara': {'Arad': 118.0, 'Timisoara': 0.0, 'Lugoj': 111.0}, 'Zerind': {'Arad': 75.0, 'Zerind': 0.0, 'Oradea': 71.0}, 'Oradea': {'Zerind': 71.0, 'Oradea': 0.0, 'Sibiu': 151.0}, 'Lugoj': {'Timisoara': 111.0, 'Lugoj': 0.0, 'Mehadia': 70.0}, 'Sibiu': {'Arad': 140.0, 'Oradea': 151.0, 'Sibiu': 0.0, 'Rimnicu Vilcea': 80.0, 'Faragas': 90.0}, 'Mehadia': {'Lugoj': 70.0, 'Mehadia': 0.0, 'Drobeta': 75.0}, 'Rimnicu Vilcea': {'Sibiu': 80.0, 'Rimnicu Vilcea': 0.0, 'Craiova': 146.0, 'Pitesti': 97.0}, 'Faragas': {'Sibiu': 90.0, 'Faragas': 0.0, 'Bucharest': 211.0}, 'Drobeta': {'Mehadia': 75.0, 'Drobeta': 0.0, 'Craiova': 120.0}, 'Craiova': {'Rimnicu Vilcea': 146.0, 'Drobeta': 120.0, 'Craiova': 0.0, 'Pitesti': 138.0}, 'Pitesti': {'Rimnicu Vilcea': 97.0, 'Craiova': 238.0, 'Pitesti': 0.0, 'Bucharest': 101.0}, 'Bucharest': {'Faragas': 211.0, 'Pitesti': 101.0, 'Bucharest': 0.0, 'Giurgiu': 90.0, 'Urziceni': 85.0}, 'Neamt': {'Neamt': 0.0}})\n",
            "defaultdict(<class 'dict'>, {'Arad': {'Arad': 0.0, 'Timisoara': 118.0, 'Zerind': 75.0, 'Sibiu': 140.0}, 'Timisoara': {'Arad': 118.0, 'Timisoara': 0.0, 'Lugoj': 111.0}, 'Zerind': {'Arad': 75.0, 'Zerind': 0.0, 'Oradea': 71.0}, 'Oradea': {'Zerind': 71.0, 'Oradea': 0.0, 'Sibiu': 151.0}, 'Lugoj': {'Timisoara': 111.0, 'Lugoj': 0.0, 'Mehadia': 70.0}, 'Sibiu': {'Arad': 140.0, 'Oradea': 151.0, 'Sibiu': 0.0, 'Rimnicu Vilcea': 80.0, 'Faragas': 90.0}, 'Mehadia': {'Lugoj': 70.0, 'Mehadia': 0.0, 'Drobeta': 75.0}, 'Rimnicu Vilcea': {'Sibiu': 80.0, 'Rimnicu Vilcea': 0.0, 'Craiova': 146.0, 'Pitesti': 97.0}, 'Faragas': {'Sibiu': 90.0, 'Faragas': 0.0, 'Bucharest': 211.0}, 'Drobeta': {'Mehadia': 75.0, 'Drobeta': 0.0, 'Craiova': 120.0}, 'Craiova': {'Rimnicu Vilcea': 146.0, 'Drobeta': 120.0, 'Craiova': 0.0, 'Pitesti': 138.0}, 'Pitesti': {'Rimnicu Vilcea': 97.0, 'Craiova': 238.0, 'Pitesti': 0.0, 'Bucharest': 101.0}, 'Bucharest': {'Faragas': 211.0, 'Pitesti': 101.0, 'Bucharest': 0.0, 'Giurgiu': 90.0, 'Urziceni': 85.0}, 'Neamt': {'Neamt': 0.0, 'Iasi': 87.0}})\n",
            "defaultdict(<class 'dict'>, {'Arad': {'Arad': 0.0, 'Timisoara': 118.0, 'Zerind': 75.0, 'Sibiu': 140.0}, 'Timisoara': {'Arad': 118.0, 'Timisoara': 0.0, 'Lugoj': 111.0}, 'Zerind': {'Arad': 75.0, 'Zerind': 0.0, 'Oradea': 71.0}, 'Oradea': {'Zerind': 71.0, 'Oradea': 0.0, 'Sibiu': 151.0}, 'Lugoj': {'Timisoara': 111.0, 'Lugoj': 0.0, 'Mehadia': 70.0}, 'Sibiu': {'Arad': 140.0, 'Oradea': 151.0, 'Sibiu': 0.0, 'Rimnicu Vilcea': 80.0, 'Faragas': 90.0}, 'Mehadia': {'Lugoj': 70.0, 'Mehadia': 0.0, 'Drobeta': 75.0}, 'Rimnicu Vilcea': {'Sibiu': 80.0, 'Rimnicu Vilcea': 0.0, 'Craiova': 146.0, 'Pitesti': 97.0}, 'Faragas': {'Sibiu': 90.0, 'Faragas': 0.0, 'Bucharest': 211.0}, 'Drobeta': {'Mehadia': 75.0, 'Drobeta': 0.0, 'Craiova': 120.0}, 'Craiova': {'Rimnicu Vilcea': 146.0, 'Drobeta': 120.0, 'Craiova': 0.0, 'Pitesti': 138.0}, 'Pitesti': {'Rimnicu Vilcea': 97.0, 'Craiova': 238.0, 'Pitesti': 0.0, 'Bucharest': 101.0}, 'Bucharest': {'Faragas': 211.0, 'Pitesti': 101.0, 'Bucharest': 0.0, 'Giurgiu': 90.0, 'Urziceni': 85.0}, 'Neamt': {'Neamt': 0.0, 'Iasi': 87.0}, 'Iasi': {'Neamt': 87.0}})\n",
            "defaultdict(<class 'dict'>, {'Arad': {'Arad': 0.0, 'Timisoara': 118.0, 'Zerind': 75.0, 'Sibiu': 140.0}, 'Timisoara': {'Arad': 118.0, 'Timisoara': 0.0, 'Lugoj': 111.0}, 'Zerind': {'Arad': 75.0, 'Zerind': 0.0, 'Oradea': 71.0}, 'Oradea': {'Zerind': 71.0, 'Oradea': 0.0, 'Sibiu': 151.0}, 'Lugoj': {'Timisoara': 111.0, 'Lugoj': 0.0, 'Mehadia': 70.0}, 'Sibiu': {'Arad': 140.0, 'Oradea': 151.0, 'Sibiu': 0.0, 'Rimnicu Vilcea': 80.0, 'Faragas': 90.0}, 'Mehadia': {'Lugoj': 70.0, 'Mehadia': 0.0, 'Drobeta': 75.0}, 'Rimnicu Vilcea': {'Sibiu': 80.0, 'Rimnicu Vilcea': 0.0, 'Craiova': 146.0, 'Pitesti': 97.0}, 'Faragas': {'Sibiu': 90.0, 'Faragas': 0.0, 'Bucharest': 211.0}, 'Drobeta': {'Mehadia': 75.0, 'Drobeta': 0.0, 'Craiova': 120.0}, 'Craiova': {'Rimnicu Vilcea': 146.0, 'Drobeta': 120.0, 'Craiova': 0.0, 'Pitesti': 138.0}, 'Pitesti': {'Rimnicu Vilcea': 97.0, 'Craiova': 238.0, 'Pitesti': 0.0, 'Bucharest': 101.0}, 'Bucharest': {'Faragas': 211.0, 'Pitesti': 101.0, 'Bucharest': 0.0, 'Giurgiu': 90.0, 'Urziceni': 85.0}, 'Neamt': {'Neamt': 0.0, 'Iasi': 87.0}, 'Iasi': {'Neamt': 87.0, 'Iasi': 0.0}})\n",
            "defaultdict(<class 'dict'>, {'Arad': {'Arad': 0.0, 'Timisoara': 118.0, 'Zerind': 75.0, 'Sibiu': 140.0}, 'Timisoara': {'Arad': 118.0, 'Timisoara': 0.0, 'Lugoj': 111.0}, 'Zerind': {'Arad': 75.0, 'Zerind': 0.0, 'Oradea': 71.0}, 'Oradea': {'Zerind': 71.0, 'Oradea': 0.0, 'Sibiu': 151.0}, 'Lugoj': {'Timisoara': 111.0, 'Lugoj': 0.0, 'Mehadia': 70.0}, 'Sibiu': {'Arad': 140.0, 'Oradea': 151.0, 'Sibiu': 0.0, 'Rimnicu Vilcea': 80.0, 'Faragas': 90.0}, 'Mehadia': {'Lugoj': 70.0, 'Mehadia': 0.0, 'Drobeta': 75.0}, 'Rimnicu Vilcea': {'Sibiu': 80.0, 'Rimnicu Vilcea': 0.0, 'Craiova': 146.0, 'Pitesti': 97.0}, 'Faragas': {'Sibiu': 90.0, 'Faragas': 0.0, 'Bucharest': 211.0}, 'Drobeta': {'Mehadia': 75.0, 'Drobeta': 0.0, 'Craiova': 120.0}, 'Craiova': {'Rimnicu Vilcea': 146.0, 'Drobeta': 120.0, 'Craiova': 0.0, 'Pitesti': 138.0}, 'Pitesti': {'Rimnicu Vilcea': 97.0, 'Craiova': 238.0, 'Pitesti': 0.0, 'Bucharest': 101.0}, 'Bucharest': {'Faragas': 211.0, 'Pitesti': 101.0, 'Bucharest': 0.0, 'Giurgiu': 90.0, 'Urziceni': 85.0}, 'Neamt': {'Neamt': 0.0, 'Iasi': 87.0}, 'Iasi': {'Neamt': 87.0, 'Iasi': 0.0, 'Vaslui': 92.0}})\n",
            "defaultdict(<class 'dict'>, {'Arad': {'Arad': 0.0, 'Timisoara': 118.0, 'Zerind': 75.0, 'Sibiu': 140.0}, 'Timisoara': {'Arad': 118.0, 'Timisoara': 0.0, 'Lugoj': 111.0}, 'Zerind': {'Arad': 75.0, 'Zerind': 0.0, 'Oradea': 71.0}, 'Oradea': {'Zerind': 71.0, 'Oradea': 0.0, 'Sibiu': 151.0}, 'Lugoj': {'Timisoara': 111.0, 'Lugoj': 0.0, 'Mehadia': 70.0}, 'Sibiu': {'Arad': 140.0, 'Oradea': 151.0, 'Sibiu': 0.0, 'Rimnicu Vilcea': 80.0, 'Faragas': 90.0}, 'Mehadia': {'Lugoj': 70.0, 'Mehadia': 0.0, 'Drobeta': 75.0}, 'Rimnicu Vilcea': {'Sibiu': 80.0, 'Rimnicu Vilcea': 0.0, 'Craiova': 146.0, 'Pitesti': 97.0}, 'Faragas': {'Sibiu': 90.0, 'Faragas': 0.0, 'Bucharest': 211.0}, 'Drobeta': {'Mehadia': 75.0, 'Drobeta': 0.0, 'Craiova': 120.0}, 'Craiova': {'Rimnicu Vilcea': 146.0, 'Drobeta': 120.0, 'Craiova': 0.0, 'Pitesti': 138.0}, 'Pitesti': {'Rimnicu Vilcea': 97.0, 'Craiova': 238.0, 'Pitesti': 0.0, 'Bucharest': 101.0}, 'Bucharest': {'Faragas': 211.0, 'Pitesti': 101.0, 'Bucharest': 0.0, 'Giurgiu': 90.0, 'Urziceni': 85.0}, 'Neamt': {'Neamt': 0.0, 'Iasi': 87.0}, 'Iasi': {'Neamt': 87.0, 'Iasi': 0.0, 'Vaslui': 92.0}, 'Giurgiu': {'Bucharest': 90.0}})\n",
            "defaultdict(<class 'dict'>, {'Arad': {'Arad': 0.0, 'Timisoara': 118.0, 'Zerind': 75.0, 'Sibiu': 140.0}, 'Timisoara': {'Arad': 118.0, 'Timisoara': 0.0, 'Lugoj': 111.0}, 'Zerind': {'Arad': 75.0, 'Zerind': 0.0, 'Oradea': 71.0}, 'Oradea': {'Zerind': 71.0, 'Oradea': 0.0, 'Sibiu': 151.0}, 'Lugoj': {'Timisoara': 111.0, 'Lugoj': 0.0, 'Mehadia': 70.0}, 'Sibiu': {'Arad': 140.0, 'Oradea': 151.0, 'Sibiu': 0.0, 'Rimnicu Vilcea': 80.0, 'Faragas': 90.0}, 'Mehadia': {'Lugoj': 70.0, 'Mehadia': 0.0, 'Drobeta': 75.0}, 'Rimnicu Vilcea': {'Sibiu': 80.0, 'Rimnicu Vilcea': 0.0, 'Craiova': 146.0, 'Pitesti': 97.0}, 'Faragas': {'Sibiu': 90.0, 'Faragas': 0.0, 'Bucharest': 211.0}, 'Drobeta': {'Mehadia': 75.0, 'Drobeta': 0.0, 'Craiova': 120.0}, 'Craiova': {'Rimnicu Vilcea': 146.0, 'Drobeta': 120.0, 'Craiova': 0.0, 'Pitesti': 138.0}, 'Pitesti': {'Rimnicu Vilcea': 97.0, 'Craiova': 238.0, 'Pitesti': 0.0, 'Bucharest': 101.0}, 'Bucharest': {'Faragas': 211.0, 'Pitesti': 101.0, 'Bucharest': 0.0, 'Giurgiu': 90.0, 'Urziceni': 85.0}, 'Neamt': {'Neamt': 0.0, 'Iasi': 87.0}, 'Iasi': {'Neamt': 87.0, 'Iasi': 0.0, 'Vaslui': 92.0}, 'Giurgiu': {'Bucharest': 90.0, 'Giurgiu': 0.0}})\n",
            "defaultdict(<class 'dict'>, {'Arad': {'Arad': 0.0, 'Timisoara': 118.0, 'Zerind': 75.0, 'Sibiu': 140.0}, 'Timisoara': {'Arad': 118.0, 'Timisoara': 0.0, 'Lugoj': 111.0}, 'Zerind': {'Arad': 75.0, 'Zerind': 0.0, 'Oradea': 71.0}, 'Oradea': {'Zerind': 71.0, 'Oradea': 0.0, 'Sibiu': 151.0}, 'Lugoj': {'Timisoara': 111.0, 'Lugoj': 0.0, 'Mehadia': 70.0}, 'Sibiu': {'Arad': 140.0, 'Oradea': 151.0, 'Sibiu': 0.0, 'Rimnicu Vilcea': 80.0, 'Faragas': 90.0}, 'Mehadia': {'Lugoj': 70.0, 'Mehadia': 0.0, 'Drobeta': 75.0}, 'Rimnicu Vilcea': {'Sibiu': 80.0, 'Rimnicu Vilcea': 0.0, 'Craiova': 146.0, 'Pitesti': 97.0}, 'Faragas': {'Sibiu': 90.0, 'Faragas': 0.0, 'Bucharest': 211.0}, 'Drobeta': {'Mehadia': 75.0, 'Drobeta': 0.0, 'Craiova': 120.0}, 'Craiova': {'Rimnicu Vilcea': 146.0, 'Drobeta': 120.0, 'Craiova': 0.0, 'Pitesti': 138.0}, 'Pitesti': {'Rimnicu Vilcea': 97.0, 'Craiova': 238.0, 'Pitesti': 0.0, 'Bucharest': 101.0}, 'Bucharest': {'Faragas': 211.0, 'Pitesti': 101.0, 'Bucharest': 0.0, 'Giurgiu': 90.0, 'Urziceni': 85.0}, 'Neamt': {'Neamt': 0.0, 'Iasi': 87.0}, 'Iasi': {'Neamt': 87.0, 'Iasi': 0.0, 'Vaslui': 92.0}, 'Giurgiu': {'Bucharest': 90.0, 'Giurgiu': 0.0}, 'Urziceni': {'Bucharest': 85.0}})\n",
            "defaultdict(<class 'dict'>, {'Arad': {'Arad': 0.0, 'Timisoara': 118.0, 'Zerind': 75.0, 'Sibiu': 140.0}, 'Timisoara': {'Arad': 118.0, 'Timisoara': 0.0, 'Lugoj': 111.0}, 'Zerind': {'Arad': 75.0, 'Zerind': 0.0, 'Oradea': 71.0}, 'Oradea': {'Zerind': 71.0, 'Oradea': 0.0, 'Sibiu': 151.0}, 'Lugoj': {'Timisoara': 111.0, 'Lugoj': 0.0, 'Mehadia': 70.0}, 'Sibiu': {'Arad': 140.0, 'Oradea': 151.0, 'Sibiu': 0.0, 'Rimnicu Vilcea': 80.0, 'Faragas': 90.0}, 'Mehadia': {'Lugoj': 70.0, 'Mehadia': 0.0, 'Drobeta': 75.0}, 'Rimnicu Vilcea': {'Sibiu': 80.0, 'Rimnicu Vilcea': 0.0, 'Craiova': 146.0, 'Pitesti': 97.0}, 'Faragas': {'Sibiu': 90.0, 'Faragas': 0.0, 'Bucharest': 211.0}, 'Drobeta': {'Mehadia': 75.0, 'Drobeta': 0.0, 'Craiova': 120.0}, 'Craiova': {'Rimnicu Vilcea': 146.0, 'Drobeta': 120.0, 'Craiova': 0.0, 'Pitesti': 138.0}, 'Pitesti': {'Rimnicu Vilcea': 97.0, 'Craiova': 238.0, 'Pitesti': 0.0, 'Bucharest': 101.0}, 'Bucharest': {'Faragas': 211.0, 'Pitesti': 101.0, 'Bucharest': 0.0, 'Giurgiu': 90.0, 'Urziceni': 85.0}, 'Neamt': {'Neamt': 0.0, 'Iasi': 87.0}, 'Iasi': {'Neamt': 87.0, 'Iasi': 0.0, 'Vaslui': 92.0}, 'Giurgiu': {'Bucharest': 90.0, 'Giurgiu': 0.0}, 'Urziceni': {'Bucharest': 85.0, 'Urziceni': 0.0}})\n",
            "defaultdict(<class 'dict'>, {'Arad': {'Arad': 0.0, 'Timisoara': 118.0, 'Zerind': 75.0, 'Sibiu': 140.0}, 'Timisoara': {'Arad': 118.0, 'Timisoara': 0.0, 'Lugoj': 111.0}, 'Zerind': {'Arad': 75.0, 'Zerind': 0.0, 'Oradea': 71.0}, 'Oradea': {'Zerind': 71.0, 'Oradea': 0.0, 'Sibiu': 151.0}, 'Lugoj': {'Timisoara': 111.0, 'Lugoj': 0.0, 'Mehadia': 70.0}, 'Sibiu': {'Arad': 140.0, 'Oradea': 151.0, 'Sibiu': 0.0, 'Rimnicu Vilcea': 80.0, 'Faragas': 90.0}, 'Mehadia': {'Lugoj': 70.0, 'Mehadia': 0.0, 'Drobeta': 75.0}, 'Rimnicu Vilcea': {'Sibiu': 80.0, 'Rimnicu Vilcea': 0.0, 'Craiova': 146.0, 'Pitesti': 97.0}, 'Faragas': {'Sibiu': 90.0, 'Faragas': 0.0, 'Bucharest': 211.0}, 'Drobeta': {'Mehadia': 75.0, 'Drobeta': 0.0, 'Craiova': 120.0}, 'Craiova': {'Rimnicu Vilcea': 146.0, 'Drobeta': 120.0, 'Craiova': 0.0, 'Pitesti': 138.0}, 'Pitesti': {'Rimnicu Vilcea': 97.0, 'Craiova': 238.0, 'Pitesti': 0.0, 'Bucharest': 101.0}, 'Bucharest': {'Faragas': 211.0, 'Pitesti': 101.0, 'Bucharest': 0.0, 'Giurgiu': 90.0, 'Urziceni': 85.0}, 'Neamt': {'Neamt': 0.0, 'Iasi': 87.0}, 'Iasi': {'Neamt': 87.0, 'Iasi': 0.0, 'Vaslui': 92.0}, 'Giurgiu': {'Bucharest': 90.0, 'Giurgiu': 0.0}, 'Urziceni': {'Bucharest': 85.0, 'Urziceni': 0.0, 'Vaslui': 142.0}})\n",
            "defaultdict(<class 'dict'>, {'Arad': {'Arad': 0.0, 'Timisoara': 118.0, 'Zerind': 75.0, 'Sibiu': 140.0}, 'Timisoara': {'Arad': 118.0, 'Timisoara': 0.0, 'Lugoj': 111.0}, 'Zerind': {'Arad': 75.0, 'Zerind': 0.0, 'Oradea': 71.0}, 'Oradea': {'Zerind': 71.0, 'Oradea': 0.0, 'Sibiu': 151.0}, 'Lugoj': {'Timisoara': 111.0, 'Lugoj': 0.0, 'Mehadia': 70.0}, 'Sibiu': {'Arad': 140.0, 'Oradea': 151.0, 'Sibiu': 0.0, 'Rimnicu Vilcea': 80.0, 'Faragas': 90.0}, 'Mehadia': {'Lugoj': 70.0, 'Mehadia': 0.0, 'Drobeta': 75.0}, 'Rimnicu Vilcea': {'Sibiu': 80.0, 'Rimnicu Vilcea': 0.0, 'Craiova': 146.0, 'Pitesti': 97.0}, 'Faragas': {'Sibiu': 90.0, 'Faragas': 0.0, 'Bucharest': 211.0}, 'Drobeta': {'Mehadia': 75.0, 'Drobeta': 0.0, 'Craiova': 120.0}, 'Craiova': {'Rimnicu Vilcea': 146.0, 'Drobeta': 120.0, 'Craiova': 0.0, 'Pitesti': 138.0}, 'Pitesti': {'Rimnicu Vilcea': 97.0, 'Craiova': 238.0, 'Pitesti': 0.0, 'Bucharest': 101.0}, 'Bucharest': {'Faragas': 211.0, 'Pitesti': 101.0, 'Bucharest': 0.0, 'Giurgiu': 90.0, 'Urziceni': 85.0}, 'Neamt': {'Neamt': 0.0, 'Iasi': 87.0}, 'Iasi': {'Neamt': 87.0, 'Iasi': 0.0, 'Vaslui': 92.0}, 'Giurgiu': {'Bucharest': 90.0, 'Giurgiu': 0.0}, 'Urziceni': {'Bucharest': 85.0, 'Urziceni': 0.0, 'Vaslui': 142.0, 'Hirsova': 98.0}})\n",
            "defaultdict(<class 'dict'>, {'Arad': {'Arad': 0.0, 'Timisoara': 118.0, 'Zerind': 75.0, 'Sibiu': 140.0}, 'Timisoara': {'Arad': 118.0, 'Timisoara': 0.0, 'Lugoj': 111.0}, 'Zerind': {'Arad': 75.0, 'Zerind': 0.0, 'Oradea': 71.0}, 'Oradea': {'Zerind': 71.0, 'Oradea': 0.0, 'Sibiu': 151.0}, 'Lugoj': {'Timisoara': 111.0, 'Lugoj': 0.0, 'Mehadia': 70.0}, 'Sibiu': {'Arad': 140.0, 'Oradea': 151.0, 'Sibiu': 0.0, 'Rimnicu Vilcea': 80.0, 'Faragas': 90.0}, 'Mehadia': {'Lugoj': 70.0, 'Mehadia': 0.0, 'Drobeta': 75.0}, 'Rimnicu Vilcea': {'Sibiu': 80.0, 'Rimnicu Vilcea': 0.0, 'Craiova': 146.0, 'Pitesti': 97.0}, 'Faragas': {'Sibiu': 90.0, 'Faragas': 0.0, 'Bucharest': 211.0}, 'Drobeta': {'Mehadia': 75.0, 'Drobeta': 0.0, 'Craiova': 120.0}, 'Craiova': {'Rimnicu Vilcea': 146.0, 'Drobeta': 120.0, 'Craiova': 0.0, 'Pitesti': 138.0}, 'Pitesti': {'Rimnicu Vilcea': 97.0, 'Craiova': 238.0, 'Pitesti': 0.0, 'Bucharest': 101.0}, 'Bucharest': {'Faragas': 211.0, 'Pitesti': 101.0, 'Bucharest': 0.0, 'Giurgiu': 90.0, 'Urziceni': 85.0}, 'Neamt': {'Neamt': 0.0, 'Iasi': 87.0}, 'Iasi': {'Neamt': 87.0, 'Iasi': 0.0, 'Vaslui': 92.0}, 'Giurgiu': {'Bucharest': 90.0, 'Giurgiu': 0.0}, 'Urziceni': {'Bucharest': 85.0, 'Urziceni': 0.0, 'Vaslui': 142.0, 'Hirsova': 98.0}, 'Vaslui': {'Iasi': 92.0}})\n",
            "defaultdict(<class 'dict'>, {'Arad': {'Arad': 0.0, 'Timisoara': 118.0, 'Zerind': 75.0, 'Sibiu': 140.0}, 'Timisoara': {'Arad': 118.0, 'Timisoara': 0.0, 'Lugoj': 111.0}, 'Zerind': {'Arad': 75.0, 'Zerind': 0.0, 'Oradea': 71.0}, 'Oradea': {'Zerind': 71.0, 'Oradea': 0.0, 'Sibiu': 151.0}, 'Lugoj': {'Timisoara': 111.0, 'Lugoj': 0.0, 'Mehadia': 70.0}, 'Sibiu': {'Arad': 140.0, 'Oradea': 151.0, 'Sibiu': 0.0, 'Rimnicu Vilcea': 80.0, 'Faragas': 90.0}, 'Mehadia': {'Lugoj': 70.0, 'Mehadia': 0.0, 'Drobeta': 75.0}, 'Rimnicu Vilcea': {'Sibiu': 80.0, 'Rimnicu Vilcea': 0.0, 'Craiova': 146.0, 'Pitesti': 97.0}, 'Faragas': {'Sibiu': 90.0, 'Faragas': 0.0, 'Bucharest': 211.0}, 'Drobeta': {'Mehadia': 75.0, 'Drobeta': 0.0, 'Craiova': 120.0}, 'Craiova': {'Rimnicu Vilcea': 146.0, 'Drobeta': 120.0, 'Craiova': 0.0, 'Pitesti': 138.0}, 'Pitesti': {'Rimnicu Vilcea': 97.0, 'Craiova': 238.0, 'Pitesti': 0.0, 'Bucharest': 101.0}, 'Bucharest': {'Faragas': 211.0, 'Pitesti': 101.0, 'Bucharest': 0.0, 'Giurgiu': 90.0, 'Urziceni': 85.0}, 'Neamt': {'Neamt': 0.0, 'Iasi': 87.0}, 'Iasi': {'Neamt': 87.0, 'Iasi': 0.0, 'Vaslui': 92.0}, 'Giurgiu': {'Bucharest': 90.0, 'Giurgiu': 0.0}, 'Urziceni': {'Bucharest': 85.0, 'Urziceni': 0.0, 'Vaslui': 142.0, 'Hirsova': 98.0}, 'Vaslui': {'Iasi': 92.0, 'Urziceni': 142.0}})\n",
            "defaultdict(<class 'dict'>, {'Arad': {'Arad': 0.0, 'Timisoara': 118.0, 'Zerind': 75.0, 'Sibiu': 140.0}, 'Timisoara': {'Arad': 118.0, 'Timisoara': 0.0, 'Lugoj': 111.0}, 'Zerind': {'Arad': 75.0, 'Zerind': 0.0, 'Oradea': 71.0}, 'Oradea': {'Zerind': 71.0, 'Oradea': 0.0, 'Sibiu': 151.0}, 'Lugoj': {'Timisoara': 111.0, 'Lugoj': 0.0, 'Mehadia': 70.0}, 'Sibiu': {'Arad': 140.0, 'Oradea': 151.0, 'Sibiu': 0.0, 'Rimnicu Vilcea': 80.0, 'Faragas': 90.0}, 'Mehadia': {'Lugoj': 70.0, 'Mehadia': 0.0, 'Drobeta': 75.0}, 'Rimnicu Vilcea': {'Sibiu': 80.0, 'Rimnicu Vilcea': 0.0, 'Craiova': 146.0, 'Pitesti': 97.0}, 'Faragas': {'Sibiu': 90.0, 'Faragas': 0.0, 'Bucharest': 211.0}, 'Drobeta': {'Mehadia': 75.0, 'Drobeta': 0.0, 'Craiova': 120.0}, 'Craiova': {'Rimnicu Vilcea': 146.0, 'Drobeta': 120.0, 'Craiova': 0.0, 'Pitesti': 138.0}, 'Pitesti': {'Rimnicu Vilcea': 97.0, 'Craiova': 238.0, 'Pitesti': 0.0, 'Bucharest': 101.0}, 'Bucharest': {'Faragas': 211.0, 'Pitesti': 101.0, 'Bucharest': 0.0, 'Giurgiu': 90.0, 'Urziceni': 85.0}, 'Neamt': {'Neamt': 0.0, 'Iasi': 87.0}, 'Iasi': {'Neamt': 87.0, 'Iasi': 0.0, 'Vaslui': 92.0}, 'Giurgiu': {'Bucharest': 90.0, 'Giurgiu': 0.0}, 'Urziceni': {'Bucharest': 85.0, 'Urziceni': 0.0, 'Vaslui': 142.0, 'Hirsova': 98.0}, 'Vaslui': {'Iasi': 92.0, 'Urziceni': 142.0, 'Vaslui': 0.0}})\n",
            "defaultdict(<class 'dict'>, {'Arad': {'Arad': 0.0, 'Timisoara': 118.0, 'Zerind': 75.0, 'Sibiu': 140.0}, 'Timisoara': {'Arad': 118.0, 'Timisoara': 0.0, 'Lugoj': 111.0}, 'Zerind': {'Arad': 75.0, 'Zerind': 0.0, 'Oradea': 71.0}, 'Oradea': {'Zerind': 71.0, 'Oradea': 0.0, 'Sibiu': 151.0}, 'Lugoj': {'Timisoara': 111.0, 'Lugoj': 0.0, 'Mehadia': 70.0}, 'Sibiu': {'Arad': 140.0, 'Oradea': 151.0, 'Sibiu': 0.0, 'Rimnicu Vilcea': 80.0, 'Faragas': 90.0}, 'Mehadia': {'Lugoj': 70.0, 'Mehadia': 0.0, 'Drobeta': 75.0}, 'Rimnicu Vilcea': {'Sibiu': 80.0, 'Rimnicu Vilcea': 0.0, 'Craiova': 146.0, 'Pitesti': 97.0}, 'Faragas': {'Sibiu': 90.0, 'Faragas': 0.0, 'Bucharest': 211.0}, 'Drobeta': {'Mehadia': 75.0, 'Drobeta': 0.0, 'Craiova': 120.0}, 'Craiova': {'Rimnicu Vilcea': 146.0, 'Drobeta': 120.0, 'Craiova': 0.0, 'Pitesti': 138.0}, 'Pitesti': {'Rimnicu Vilcea': 97.0, 'Craiova': 238.0, 'Pitesti': 0.0, 'Bucharest': 101.0}, 'Bucharest': {'Faragas': 211.0, 'Pitesti': 101.0, 'Bucharest': 0.0, 'Giurgiu': 90.0, 'Urziceni': 85.0}, 'Neamt': {'Neamt': 0.0, 'Iasi': 87.0}, 'Iasi': {'Neamt': 87.0, 'Iasi': 0.0, 'Vaslui': 92.0}, 'Giurgiu': {'Bucharest': 90.0, 'Giurgiu': 0.0}, 'Urziceni': {'Bucharest': 85.0, 'Urziceni': 0.0, 'Vaslui': 142.0, 'Hirsova': 98.0}, 'Vaslui': {'Iasi': 92.0, 'Urziceni': 142.0, 'Vaslui': 0.0}, 'Hirsova': {'Urziceni': 98.0}})\n",
            "defaultdict(<class 'dict'>, {'Arad': {'Arad': 0.0, 'Timisoara': 118.0, 'Zerind': 75.0, 'Sibiu': 140.0}, 'Timisoara': {'Arad': 118.0, 'Timisoara': 0.0, 'Lugoj': 111.0}, 'Zerind': {'Arad': 75.0, 'Zerind': 0.0, 'Oradea': 71.0}, 'Oradea': {'Zerind': 71.0, 'Oradea': 0.0, 'Sibiu': 151.0}, 'Lugoj': {'Timisoara': 111.0, 'Lugoj': 0.0, 'Mehadia': 70.0}, 'Sibiu': {'Arad': 140.0, 'Oradea': 151.0, 'Sibiu': 0.0, 'Rimnicu Vilcea': 80.0, 'Faragas': 90.0}, 'Mehadia': {'Lugoj': 70.0, 'Mehadia': 0.0, 'Drobeta': 75.0}, 'Rimnicu Vilcea': {'Sibiu': 80.0, 'Rimnicu Vilcea': 0.0, 'Craiova': 146.0, 'Pitesti': 97.0}, 'Faragas': {'Sibiu': 90.0, 'Faragas': 0.0, 'Bucharest': 211.0}, 'Drobeta': {'Mehadia': 75.0, 'Drobeta': 0.0, 'Craiova': 120.0}, 'Craiova': {'Rimnicu Vilcea': 146.0, 'Drobeta': 120.0, 'Craiova': 0.0, 'Pitesti': 138.0}, 'Pitesti': {'Rimnicu Vilcea': 97.0, 'Craiova': 238.0, 'Pitesti': 0.0, 'Bucharest': 101.0}, 'Bucharest': {'Faragas': 211.0, 'Pitesti': 101.0, 'Bucharest': 0.0, 'Giurgiu': 90.0, 'Urziceni': 85.0}, 'Neamt': {'Neamt': 0.0, 'Iasi': 87.0}, 'Iasi': {'Neamt': 87.0, 'Iasi': 0.0, 'Vaslui': 92.0}, 'Giurgiu': {'Bucharest': 90.0, 'Giurgiu': 0.0}, 'Urziceni': {'Bucharest': 85.0, 'Urziceni': 0.0, 'Vaslui': 142.0, 'Hirsova': 98.0}, 'Vaslui': {'Iasi': 92.0, 'Urziceni': 142.0, 'Vaslui': 0.0}, 'Hirsova': {'Urziceni': 98.0, 'Hirsova': 0.0}})\n",
            "defaultdict(<class 'dict'>, {'Arad': {'Arad': 0.0, 'Timisoara': 118.0, 'Zerind': 75.0, 'Sibiu': 140.0}, 'Timisoara': {'Arad': 118.0, 'Timisoara': 0.0, 'Lugoj': 111.0}, 'Zerind': {'Arad': 75.0, 'Zerind': 0.0, 'Oradea': 71.0}, 'Oradea': {'Zerind': 71.0, 'Oradea': 0.0, 'Sibiu': 151.0}, 'Lugoj': {'Timisoara': 111.0, 'Lugoj': 0.0, 'Mehadia': 70.0}, 'Sibiu': {'Arad': 140.0, 'Oradea': 151.0, 'Sibiu': 0.0, 'Rimnicu Vilcea': 80.0, 'Faragas': 90.0}, 'Mehadia': {'Lugoj': 70.0, 'Mehadia': 0.0, 'Drobeta': 75.0}, 'Rimnicu Vilcea': {'Sibiu': 80.0, 'Rimnicu Vilcea': 0.0, 'Craiova': 146.0, 'Pitesti': 97.0}, 'Faragas': {'Sibiu': 90.0, 'Faragas': 0.0, 'Bucharest': 211.0}, 'Drobeta': {'Mehadia': 75.0, 'Drobeta': 0.0, 'Craiova': 120.0}, 'Craiova': {'Rimnicu Vilcea': 146.0, 'Drobeta': 120.0, 'Craiova': 0.0, 'Pitesti': 138.0}, 'Pitesti': {'Rimnicu Vilcea': 97.0, 'Craiova': 238.0, 'Pitesti': 0.0, 'Bucharest': 101.0}, 'Bucharest': {'Faragas': 211.0, 'Pitesti': 101.0, 'Bucharest': 0.0, 'Giurgiu': 90.0, 'Urziceni': 85.0}, 'Neamt': {'Neamt': 0.0, 'Iasi': 87.0}, 'Iasi': {'Neamt': 87.0, 'Iasi': 0.0, 'Vaslui': 92.0}, 'Giurgiu': {'Bucharest': 90.0, 'Giurgiu': 0.0}, 'Urziceni': {'Bucharest': 85.0, 'Urziceni': 0.0, 'Vaslui': 142.0, 'Hirsova': 98.0}, 'Vaslui': {'Iasi': 92.0, 'Urziceni': 142.0, 'Vaslui': 0.0}, 'Hirsova': {'Urziceni': 98.0, 'Hirsova': 0.0, 'Eforie': 86.0}})\n",
            "defaultdict(<class 'dict'>, {'Arad': {'Arad': 0.0, 'Timisoara': 118.0, 'Zerind': 75.0, 'Sibiu': 140.0}, 'Timisoara': {'Arad': 118.0, 'Timisoara': 0.0, 'Lugoj': 111.0}, 'Zerind': {'Arad': 75.0, 'Zerind': 0.0, 'Oradea': 71.0}, 'Oradea': {'Zerind': 71.0, 'Oradea': 0.0, 'Sibiu': 151.0}, 'Lugoj': {'Timisoara': 111.0, 'Lugoj': 0.0, 'Mehadia': 70.0}, 'Sibiu': {'Arad': 140.0, 'Oradea': 151.0, 'Sibiu': 0.0, 'Rimnicu Vilcea': 80.0, 'Faragas': 90.0}, 'Mehadia': {'Lugoj': 70.0, 'Mehadia': 0.0, 'Drobeta': 75.0}, 'Rimnicu Vilcea': {'Sibiu': 80.0, 'Rimnicu Vilcea': 0.0, 'Craiova': 146.0, 'Pitesti': 97.0}, 'Faragas': {'Sibiu': 90.0, 'Faragas': 0.0, 'Bucharest': 211.0}, 'Drobeta': {'Mehadia': 75.0, 'Drobeta': 0.0, 'Craiova': 120.0}, 'Craiova': {'Rimnicu Vilcea': 146.0, 'Drobeta': 120.0, 'Craiova': 0.0, 'Pitesti': 138.0}, 'Pitesti': {'Rimnicu Vilcea': 97.0, 'Craiova': 238.0, 'Pitesti': 0.0, 'Bucharest': 101.0}, 'Bucharest': {'Faragas': 211.0, 'Pitesti': 101.0, 'Bucharest': 0.0, 'Giurgiu': 90.0, 'Urziceni': 85.0}, 'Neamt': {'Neamt': 0.0, 'Iasi': 87.0}, 'Iasi': {'Neamt': 87.0, 'Iasi': 0.0, 'Vaslui': 92.0}, 'Giurgiu': {'Bucharest': 90.0, 'Giurgiu': 0.0}, 'Urziceni': {'Bucharest': 85.0, 'Urziceni': 0.0, 'Vaslui': 142.0, 'Hirsova': 98.0}, 'Vaslui': {'Iasi': 92.0, 'Urziceni': 142.0, 'Vaslui': 0.0}, 'Hirsova': {'Urziceni': 98.0, 'Hirsova': 0.0, 'Eforie': 86.0}, 'Eforie': {'Hirsova': 86.0}})\n",
            "defaultdict(<class 'dict'>, {'Arad': {'Arad': 0.0, 'Timisoara': 118.0, 'Zerind': 75.0, 'Sibiu': 140.0}, 'Timisoara': {'Arad': 118.0, 'Timisoara': 0.0, 'Lugoj': 111.0}, 'Zerind': {'Arad': 75.0, 'Zerind': 0.0, 'Oradea': 71.0}, 'Oradea': {'Zerind': 71.0, 'Oradea': 0.0, 'Sibiu': 151.0}, 'Lugoj': {'Timisoara': 111.0, 'Lugoj': 0.0, 'Mehadia': 70.0}, 'Sibiu': {'Arad': 140.0, 'Oradea': 151.0, 'Sibiu': 0.0, 'Rimnicu Vilcea': 80.0, 'Faragas': 90.0}, 'Mehadia': {'Lugoj': 70.0, 'Mehadia': 0.0, 'Drobeta': 75.0}, 'Rimnicu Vilcea': {'Sibiu': 80.0, 'Rimnicu Vilcea': 0.0, 'Craiova': 146.0, 'Pitesti': 97.0}, 'Faragas': {'Sibiu': 90.0, 'Faragas': 0.0, 'Bucharest': 211.0}, 'Drobeta': {'Mehadia': 75.0, 'Drobeta': 0.0, 'Craiova': 120.0}, 'Craiova': {'Rimnicu Vilcea': 146.0, 'Drobeta': 120.0, 'Craiova': 0.0, 'Pitesti': 138.0}, 'Pitesti': {'Rimnicu Vilcea': 97.0, 'Craiova': 238.0, 'Pitesti': 0.0, 'Bucharest': 101.0}, 'Bucharest': {'Faragas': 211.0, 'Pitesti': 101.0, 'Bucharest': 0.0, 'Giurgiu': 90.0, 'Urziceni': 85.0}, 'Neamt': {'Neamt': 0.0, 'Iasi': 87.0}, 'Iasi': {'Neamt': 87.0, 'Iasi': 0.0, 'Vaslui': 92.0}, 'Giurgiu': {'Bucharest': 90.0, 'Giurgiu': 0.0}, 'Urziceni': {'Bucharest': 85.0, 'Urziceni': 0.0, 'Vaslui': 142.0, 'Hirsova': 98.0}, 'Vaslui': {'Iasi': 92.0, 'Urziceni': 142.0, 'Vaslui': 0.0}, 'Hirsova': {'Urziceni': 98.0, 'Hirsova': 0.0, 'Eforie': 86.0}, 'Eforie': {'Hirsova': 86.0, 'Eforie': 0.0}})\n"
          ]
        }
      ]
    },
    {
      "cell_type": "markdown",
      "source": [
        "Prompt user to input city from and city to"
      ],
      "metadata": {
        "id": "FSLUPuZoQ2c5"
      }
    },
    {
      "cell_type": "code",
      "source": [
        "print(\"Input the city of origin:\")\n",
        "origin = input()\n",
        "print(\"Input the destination city:\")\n",
        "destination = input()"
      ],
      "metadata": {
        "colab": {
          "base_uri": "https://localhost:8080/"
        },
        "id": "Bc-rGBqsQ8PC",
        "outputId": "aaf723b5-2947-42b2-98f1-6980b679429d"
      },
      "execution_count": null,
      "outputs": [
        {
          "name": "stdout",
          "output_type": "stream",
          "text": [
            "Input the city of origin:\n",
            "Arad\n",
            "Input the destination city:\n",
            "Bucharest\n"
          ]
        }
      ]
    },
    {
      "cell_type": "markdown",
      "source": [
        "Initializing priority queue"
      ],
      "metadata": {
        "id": "yY1YhRy5YTs_"
      }
    },
    {
      "cell_type": "code",
      "source": [
        "pq = PriorityQueue()"
      ],
      "metadata": {
        "id": "fHRMOzLLqk1I"
      },
      "execution_count": null,
      "outputs": []
    },
    {
      "cell_type": "markdown",
      "source": [
        "Start with the city of origin in queue"
      ],
      "metadata": {
        "id": "UlgorXDqqsPq"
      }
    },
    {
      "cell_type": "code",
      "source": [
        "pq.put(origin)"
      ],
      "metadata": {
        "id": "kv0rt37Cqrky"
      },
      "execution_count": null,
      "outputs": []
    },
    {
      "cell_type": "markdown",
      "source": [
        "Dictionary for cities that have already been visited"
      ],
      "metadata": {
        "id": "IHWKpgYJqxY1"
      }
    },
    {
      "cell_type": "code",
      "source": [
        "visitedCities = {}"
      ],
      "metadata": {
        "id": "Jf7nAen_q1OI"
      },
      "execution_count": null,
      "outputs": []
    },
    {
      "cell_type": "markdown",
      "source": [
        "Dictionary for the distances at each city along the path"
      ],
      "metadata": {
        "id": "xcqenk72q3Va"
      }
    },
    {
      "cell_type": "code",
      "source": [
        "pathDistances = {paths:float('inf') for paths in dataGraph}"
      ],
      "metadata": {
        "id": "CfbGlIy3q6VW"
      },
      "execution_count": null,
      "outputs": []
    },
    {
      "cell_type": "markdown",
      "source": [
        "Start at 0 because haven't moved from origin yet"
      ],
      "metadata": {
        "id": "4GhMQfHrq-CW"
      }
    },
    {
      "cell_type": "code",
      "source": [
        "pathDistances[origin] = 0"
      ],
      "metadata": {
        "id": "8B725d0Pr0gE"
      },
      "execution_count": null,
      "outputs": []
    },
    {
      "cell_type": "markdown",
      "source": [
        "while loop until no more cities to added to queue, meaning distance is too costly"
      ],
      "metadata": {
        "id": "KYk4ZipErgxK"
      }
    },
    {
      "cell_type": "code",
      "source": [
        "while not pq.empty():\n",
        "  currCity = pq.get()"
      ],
      "metadata": {
        "id": "vNQduCQ0o-Z6"
      },
      "execution_count": null,
      "outputs": []
    },
    {
      "cell_type": "markdown",
      "source": [
        "for loop to look at each city connected to the current city"
      ],
      "metadata": {
        "id": "xovHaVKHr80e"
      }
    },
    {
      "cell_type": "code",
      "source": [
        "  for nextCity in dataGraph[currCity]:\n",
        "    distance = pathDistances[currCity] + dataGraph[currCity][nextCity]"
      ],
      "metadata": {
        "id": "inbg20ytsO7h"
      },
      "execution_count": null,
      "outputs": []
    },
    {
      "cell_type": "markdown",
      "source": [
        "Cost function that finds the distance taken along the path, adding the\n",
        "distance stored up to the current city and the distance between the\n",
        "current and next city stored in the dictionary"
      ],
      "metadata": {
        "id": "QSr1FYo-sSY9"
      }
    },
    {
      "cell_type": "code",
      "source": [
        "    distance = pathDistances[currCity] + dataGraph[currCity][nextCity]"
      ],
      "metadata": {
        "id": "kIavoq7LsX6r"
      },
      "execution_count": null,
      "outputs": []
    },
    {
      "cell_type": "markdown",
      "source": [
        "Move to next city only if the cost is less"
      ],
      "metadata": {
        "id": "8M84vmUvs3L2"
      }
    },
    {
      "cell_type": "code",
      "source": [
        "    if distance < pathDistances[nextCity]:\n",
        "      visitedCities[nextCity] = currCity"
      ],
      "metadata": {
        "id": "-TNBipmYs6wo"
      },
      "execution_count": null,
      "outputs": []
    },
    {
      "cell_type": "markdown",
      "source": [
        "Put the next city in the queue"
      ],
      "metadata": {
        "id": "KBveyKkNuPi9"
      }
    },
    {
      "cell_type": "code",
      "source": [
        "      pq.put(nextCity)"
      ],
      "metadata": {
        "id": "BC6_twoAuN_B"
      },
      "execution_count": null,
      "outputs": []
    },
    {
      "cell_type": "markdown",
      "source": [
        "Distance of next city set to the lower distance to travel"
      ],
      "metadata": {
        "id": "1_LP5u8Xt17E"
      }
    },
    {
      "cell_type": "code",
      "source": [
        "      pathDistances[nextCity] = min(distance, pathDistances[nextCity])"
      ],
      "metadata": {
        "id": "uszUeUvPuclC"
      },
      "execution_count": null,
      "outputs": []
    },
    {
      "cell_type": "markdown",
      "source": [
        "Current city equal to destination to iterate through solution"
      ],
      "metadata": {
        "id": "cnXMN3tUvVs2"
      }
    },
    {
      "cell_type": "code",
      "source": [
        "currCity = destination"
      ],
      "metadata": {
        "id": "w0fQO2ivukOP"
      },
      "execution_count": null,
      "outputs": []
    },
    {
      "cell_type": "markdown",
      "source": [
        "List for the route of the solution"
      ],
      "metadata": {
        "id": "tE8rQoezvk1G"
      }
    },
    {
      "cell_type": "code",
      "source": [
        "routeTaken = []"
      ],
      "metadata": {
        "id": "2Cwm4Z2duj_F"
      },
      "execution_count": null,
      "outputs": []
    },
    {
      "cell_type": "markdown",
      "source": [
        "Start with the origin city"
      ],
      "metadata": {
        "id": "S_7ss1X7vrIO"
      }
    },
    {
      "cell_type": "code",
      "source": [
        "routeTaken.insert(0, origin)"
      ],
      "metadata": {
        "id": "Br58ZklOujor"
      },
      "execution_count": null,
      "outputs": []
    },
    {
      "cell_type": "markdown",
      "source": [
        "Counter to track iteration"
      ],
      "metadata": {
        "id": "JaoHSjSZvuGV"
      }
    },
    {
      "cell_type": "code",
      "source": [
        "counter = 1"
      ],
      "metadata": {
        "id": "MctYSYvMuzHu"
      },
      "execution_count": null,
      "outputs": []
    },
    {
      "cell_type": "markdown",
      "source": [
        "while loop to go through visited until back at origin"
      ],
      "metadata": {
        "id": "dViuIXGUvw2P"
      }
    },
    {
      "cell_type": "code",
      "source": [
        "while currCity is not origin:\n",
        "  routeTaken.insert(1, currCity)\n",
        "  currCity = visitedCities[currCity]\n",
        "  print(\"Iteration\", counter, \":\", routeTaken)\n",
        "  counter += 1"
      ],
      "metadata": {
        "colab": {
          "base_uri": "https://localhost:8080/",
          "height": 235
        },
        "id": "U-9kAPHHu0gz",
        "outputId": "5d0aa3df-9257-48f0-b6a3-bb0b983aef23"
      },
      "execution_count": null,
      "outputs": [
        {
          "output_type": "error",
          "ename": "KeyError",
          "evalue": "ignored",
          "traceback": [
            "\u001b[0;31m---------------------------------------------------------------------------\u001b[0m",
            "\u001b[0;31mKeyError\u001b[0m                                  Traceback (most recent call last)",
            "\u001b[0;32m<ipython-input-52-8b0052f16eb2>\u001b[0m in \u001b[0;36m<module>\u001b[0;34m()\u001b[0m\n\u001b[1;32m      1\u001b[0m \u001b[0;32mwhile\u001b[0m \u001b[0mcurrCity\u001b[0m \u001b[0;32mis\u001b[0m \u001b[0;32mnot\u001b[0m \u001b[0morigin\u001b[0m\u001b[0;34m:\u001b[0m\u001b[0;34m\u001b[0m\u001b[0;34m\u001b[0m\u001b[0m\n\u001b[1;32m      2\u001b[0m   \u001b[0mrouteTaken\u001b[0m\u001b[0;34m.\u001b[0m\u001b[0minsert\u001b[0m\u001b[0;34m(\u001b[0m\u001b[0;36m1\u001b[0m\u001b[0;34m,\u001b[0m \u001b[0mcurrCity\u001b[0m\u001b[0;34m)\u001b[0m\u001b[0;34m\u001b[0m\u001b[0;34m\u001b[0m\u001b[0m\n\u001b[0;32m----> 3\u001b[0;31m   \u001b[0mcurrCity\u001b[0m \u001b[0;34m=\u001b[0m \u001b[0mvisitedCities\u001b[0m\u001b[0;34m[\u001b[0m\u001b[0mcurrCity\u001b[0m\u001b[0;34m]\u001b[0m\u001b[0;34m\u001b[0m\u001b[0;34m\u001b[0m\u001b[0m\n\u001b[0m\u001b[1;32m      4\u001b[0m   \u001b[0mprint\u001b[0m\u001b[0;34m(\u001b[0m\u001b[0;34m\"Iteration\"\u001b[0m\u001b[0;34m,\u001b[0m \u001b[0mcounter\u001b[0m\u001b[0;34m,\u001b[0m \u001b[0;34m\":\"\u001b[0m\u001b[0;34m,\u001b[0m \u001b[0mrouteTaken\u001b[0m\u001b[0;34m)\u001b[0m\u001b[0;34m\u001b[0m\u001b[0;34m\u001b[0m\u001b[0m\n\u001b[1;32m      5\u001b[0m   \u001b[0mcounter\u001b[0m \u001b[0;34m+=\u001b[0m \u001b[0;36m1\u001b[0m\u001b[0;34m\u001b[0m\u001b[0;34m\u001b[0m\u001b[0m\n",
            "\u001b[0;31mKeyError\u001b[0m: 'Bucharest'"
          ]
        }
      ]
    },
    {
      "cell_type": "code",
      "source": [
        "print(\"Solution:\", routeTaken, \"Cost:\", pathDistances[destination])"
      ],
      "metadata": {
        "id": "M8J5Ox21vFgQ"
      },
      "execution_count": null,
      "outputs": []
    }
  ]
}